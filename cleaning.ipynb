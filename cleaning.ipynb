{
 "cells": [
  {
   "cell_type": "markdown",
   "metadata": {},
   "source": [
    "# Data Import, Cleaning, and EDA for AirBnB listings in Mexico City\n",
    "from insideairbnb.com"
   ]
  },
  {
   "cell_type": "markdown",
   "metadata": {},
   "source": [
    "## Import Libraries"
   ]
  },
  {
   "cell_type": "code",
   "execution_count": null,
   "metadata": {},
   "outputs": [],
   "source": [
    "import pandas as pd\n",
    "import numpy as np\n",
    "import seaborn as sns"
   ]
  },
  {
   "cell_type": "markdown",
   "metadata": {},
   "source": [
    "## Import Data\n",
    "Free Data is available quarterly so I have imported listings one year back starting in June 2022"
   ]
  },
  {
   "cell_type": "code",
   "execution_count": null,
   "metadata": {},
   "outputs": [],
   "source": [
    "june = pd.read_csv(\"./data/listings_june.csv\")\n",
    "june[\"last_scraped\"].unique()"
   ]
  },
  {
   "cell_type": "code",
   "execution_count": null,
   "metadata": {},
   "outputs": [],
   "source": [
    "march = pd.read_csv(\"./data/listings_march.csv\")\n",
    "march[\"last_scraped\"].unique()"
   ]
  },
  {
   "cell_type": "code",
   "execution_count": null,
   "metadata": {},
   "outputs": [],
   "source": [
    "dec = pd.read_csv(\"./data/listings_dec.csv\")\n",
    "dec[\"last_scraped\"].unique()"
   ]
  },
  {
   "cell_type": "code",
   "execution_count": null,
   "metadata": {},
   "outputs": [],
   "source": [
    "sep = pd.read_csv(\"./data/listings_sept.csv\")\n",
    "sep[\"last_scraped\"].unique()"
   ]
  },
  {
   "cell_type": "markdown",
   "metadata": {},
   "source": [
    "## Drop features with high proportion of missing values"
   ]
  },
  {
   "cell_type": "code",
   "execution_count": null,
   "metadata": {},
   "outputs": [],
   "source": [
    "# Determine NaN rates and drop features with > 80% NaNs\n",
    "thresh = 0.95\n",
    "nan_rates = june.isna().sum(axis=0).sort_values(ascending=False) / float(len(june))\n",
    "june.drop(nan_rates[nan_rates > thresh].index, axis=1, inplace=True)\n",
    "print(\n",
    "    f\"Removed {len(nan_rates[nan_rates > thresh])} features with > {thresh*100}% missing values\"\n",
    ")\n",
    "\n",
    "# Also drop rows with all NaNs\n",
    "june.dropna(how=\"all\", inplace=True)"
   ]
  },
  {
   "cell_type": "code",
   "execution_count": null,
   "metadata": {},
   "outputs": [],
   "source": [
    "june.columns"
   ]
  },
  {
   "cell_type": "code",
   "execution_count": null,
   "metadata": {},
   "outputs": [],
   "source": [
    "june['host_response_time'].unique()"
   ]
  },
  {
   "cell_type": "code",
   "execution_count": null,
   "metadata": {},
   "outputs": [],
   "source": [
    "# Must revisit this drop since there is useful info here that I'm dropping for simplicity\n",
    "june.drop(columns=['property_type', 'amenities', 'calendar_last_scraped'], inplace=True)"
   ]
  },
  {
   "cell_type": "code",
   "execution_count": null,
   "metadata": {},
   "outputs": [],
   "source": [
    "june = june.astype(\n",
    "    {\n",
    "        \"last_scraped\": \"datetime64\",\n",
    "        \"host_since\": \"datetime64\",\n",
    "        'first_review': 'datetime64',\n",
    "        'last_review': 'datetime64',\n",
    "    }\n",
    ")"
   ]
  },
  {
   "cell_type": "code",
   "execution_count": null,
   "metadata": {},
   "outputs": [],
   "source": [
    "june[\"host_response_rate\"] = (\n",
    "    june[\"host_response_rate\"].str.replace(\"%\", \"\").fillna(0).astype(\"float\") / 100.0\n",
    ")"
   ]
  },
  {
   "cell_type": "code",
   "execution_count": null,
   "metadata": {},
   "outputs": [],
   "source": [
    "june[\"host_acceptance_rate\"] = (\n",
    "    june[\"host_acceptance_rate\"].str.replace(\"%\", \"\").fillna(0).astype(\"float\") / 100.0\n",
    ")"
   ]
  },
  {
   "cell_type": "code",
   "execution_count": null,
   "metadata": {},
   "outputs": [],
   "source": [
    "june[\"host_is_superhost\"] = (\n",
    "    june[\"host_is_superhost\"].map({\"f\": 0, \"t\": 1}).astype(\"bool\")\n",
    ")"
   ]
  },
  {
   "cell_type": "code",
   "execution_count": null,
   "metadata": {},
   "outputs": [],
   "source": [
    "june[\"host_identity_verified\"] = (\n",
    "    june[\"host_identity_verified\"].map({\"f\": 0, \"t\": 1}).astype(\"bool\")\n",
    ")"
   ]
  },
  {
   "cell_type": "code",
   "execution_count": null,
   "metadata": {},
   "outputs": [],
   "source": [
    "june['bathrooms_text'] = june[\"bathrooms_text\"].map(\n",
    "    {\n",
    "        \"3 baths\": \"3 a\",\n",
    "        \"1 bath\": \"1 a\",\n",
    "        \"1 private bath\": \"1 a\",\n",
    "        \"5.5 baths\": \"5.5 a\",\n",
    "        \"1 shared bath\": \"1 b\",\n",
    "        \"1.5 baths\": \"1.5 a\",\n",
    "        \"1.5 shared baths\": \"1.5 b\",\n",
    "        \"2 baths\": \"2 a\",\n",
    "        \"5 baths\": \"5 a\",\n",
    "        \"4.5 baths\": \"4.5 a\",\n",
    "        \"2.5 baths\": \"2.5 a\",\n",
    "        \"3.5 baths\": \"3.5 a\",\n",
    "        \"2 shared baths\": \"2 b\",\n",
    "        \"5.5 shared baths\": \"5.5 b\",\n",
    "        \"6 baths\": \"6 b\",\n",
    "        \"3 shared baths\": \"3 b\",\n",
    "        \"8 shared baths\": \"8 b\",\n",
    "        \"2.5 shared baths\": \"2.5 b\",\n",
    "        \"Half-bath\": \"0.5 a\",\n",
    "        \"3.5 shared baths\": \"3.5 b\",\n",
    "        \"4 baths\": \"4 a\",\n",
    "        \"10 baths\": \"10 a\",\n",
    "        \"5 shared baths\": \"5 b\",\n",
    "        \"16 baths\": \"16 a\",\n",
    "        \"4 shared baths\": \"4 a\",\n",
    "        \"0 baths\": \"0 a\",\n",
    "        \"7 baths\": \"7 a\",\n",
    "        \"20 baths\": \"20 a\",\n",
    "        \"4.5 shared baths\": \"4.5 b\",\n",
    "        \"0 shared baths\": \"0 b\",\n",
    "        \"50 baths\": \"50 a\",\n",
    "        \"10 shared baths\": \"10 b\",\n",
    "        \"Shared half-bath\": \"0.5 b\",\n",
    "        \"6.5 shared baths\": \"6.5 b\",\n",
    "        \"8.5 baths\": \"8.5 a\",\n",
    "        \"7.5 baths\": \"7.5 a\",\n",
    "        \"9 baths\": \"9 a\",\n",
    "        \"11.5 baths\": \"11.5 a\",\n",
    "        \"8 baths\": \"8 a\",\n",
    "        \"Private half-bath\": \"0.5 a\",\n",
    "        \"14 baths\": \"14 a\",\n",
    "        \"11 baths\": \"11 a\",\n",
    "        \"6.5 baths\": \"6.5 a\",\n",
    "        \"6 shared baths\": \"6 b\",\n",
    "        \"8.5 shared baths\": \"8.5 b\",\n",
    "        \"13 baths\": \"13 a\",\n",
    "        \"15 shared baths\": \"15 b\",\n",
    "        \"17 baths\": \"17 a\",\n",
    "        \"12 shared baths\": \"12 b\",\n",
    "        \"7.5 shared baths\": \"7.5 b\",\n",
    "        \"7 shared baths\": \"7 b\",\n",
    "        \"9.5 baths\": \"9.5 a\",\n",
    "        \"30 baths\": \"30 a\",\n",
    "        \"26 baths\": \"26 a\",\n",
    "    }\n",
    ")"
   ]
  },
  {
   "cell_type": "code",
   "execution_count": null,
   "metadata": {},
   "outputs": [],
   "source": [
    "june[['bathrooms_count', 'bathrooms_type']] = june['bathrooms_text'].str.split(expand=True)\n",
    "june['bathrooms_count'] = june['bathrooms_count'].astype('float')\n",
    "june['bathrooms_type'] = june['bathrooms_type'].astype('category')"
   ]
  },
  {
   "cell_type": "code",
   "execution_count": null,
   "metadata": {},
   "outputs": [],
   "source": [
    "june['price'] = june['price'].str.replace('[\\$,]', '', regex=True).astype('float')"
   ]
  },
  {
   "cell_type": "code",
   "execution_count": null,
   "metadata": {},
   "outputs": [],
   "source": [
    "june[\"instant_bookable\"] = (\n",
    "    june[\"instant_bookable\"].map({\"f\": 0, \"t\": 1}).astype(\"bool\")\n",
    ")"
   ]
  },
  {
   "cell_type": "code",
   "execution_count": null,
   "metadata": {},
   "outputs": [],
   "source": [
    "june[\"has_availability\"] = (\n",
    "    june[\"has_availability\"].map({\"f\": 0, \"t\": 1}).astype(\"bool\")\n",
    ")"
   ]
  },
  {
   "cell_type": "code",
   "execution_count": null,
   "metadata": {},
   "outputs": [],
   "source": [
    "june.groupby('neighbourhood').mean()['price'].sort_values(ascending=False).head(10)"
   ]
  },
  {
   "cell_type": "code",
   "execution_count": null,
   "metadata": {},
   "outputs": [],
   "source": [
    "june.corr()['price'].sort_values().head()"
   ]
  },
  {
   "cell_type": "code",
   "execution_count": null,
   "metadata": {},
   "outputs": [],
   "source": [
    "june.corr()['price'].sort_values(ascending=False).head(6)"
   ]
  },
  {
   "cell_type": "code",
   "execution_count": null,
   "metadata": {},
   "outputs": [],
   "source": [
    "# Keep features related to property only\n",
    "june.drop(\n",
    "    columns=[\n",
    "        \"id\",\n",
    "        \"listing_url\",\n",
    "        \"scrape_id\",\n",
    "        \"last_scraped\",\n",
    "        \"name\",\n",
    "        \"description\",\n",
    "        \"neighborhood_overview\",\n",
    "        \"picture_url\",\n",
    "        \"host_id\",\n",
    "        \"host_url\",\n",
    "        \"host_name\",\n",
    "        \"host_since\",\n",
    "        \"host_location\",\n",
    "        \"host_about\",\n",
    "        \"host_response_time\",\n",
    "        \"host_response_rate\",\n",
    "        \"host_acceptance_rate\",\n",
    "        \"host_is_superhost\",\n",
    "        \"host_thumbnail_url\",\n",
    "        \"host_picture_url\",\n",
    "        \"host_neighbourhood\",\n",
    "        \"host_listings_count\",\n",
    "        \"host_total_listings_count\",\n",
    "        \"host_verifications\",\n",
    "        \"host_has_profile_pic\",\n",
    "        \"host_identity_verified\",\n",
    "        \"minimum_nights\",\n",
    "        \"maximum_nights\",\n",
    "        \"minimum_minimum_nights\",\n",
    "        \"maximum_minimum_nights\",\n",
    "        \"minimum_maximum_nights\",\n",
    "        \"maximum_maximum_nights\",\n",
    "        \"minimum_nights_avg_ntm\",\n",
    "        \"maximum_nights_avg_ntm\",\n",
    "        \"has_availability\",\n",
    "        \"number_of_reviews\",\n",
    "        \"number_of_reviews_ltm\",\n",
    "        \"number_of_reviews_l30d\",\n",
    "        \"first_review\",\n",
    "        \"last_review\",\n",
    "        \"review_scores_rating\",\n",
    "        \"review_scores_accuracy\",\n",
    "        \"review_scores_cleanliness\",\n",
    "        \"review_scores_checkin\",\n",
    "        \"review_scores_communication\",\n",
    "        \"review_scores_location\",\n",
    "        \"review_scores_value\",\n",
    "        \"instant_bookable\",\n",
    "        \"calculated_host_listings_count\",\n",
    "        \"calculated_host_listings_count_entire_homes\",\n",
    "        \"calculated_host_listings_count_private_rooms\",\n",
    "        \"calculated_host_listings_count_shared_rooms\",\n",
    "        \"reviews_per_month\",\n",
    "        \"bathrooms_text\",\n",
    "        \"neighbourhood\",\n",
    "        \"neighbourhood_cleansed\",\n",
    "        \"bathrooms_type\",\n",
    "    ],\n",
    "    inplace=True,\n",
    ")"
   ]
  },
  {
   "cell_type": "code",
   "execution_count": null,
   "metadata": {},
   "outputs": [],
   "source": [
    "june.info()"
   ]
  },
  {
   "cell_type": "code",
   "execution_count": null,
   "metadata": {},
   "outputs": [],
   "source": [
    "june.corr()['price']"
   ]
  },
  {
   "cell_type": "code",
   "execution_count": null,
   "metadata": {},
   "outputs": [],
   "source": [
    "june['forecasted_revenue'] = june['price']*(365 - june['availability_365'])"
   ]
  },
  {
   "cell_type": "code",
   "execution_count": null,
   "metadata": {},
   "outputs": [],
   "source": [
    "june = pd.get_dummies(june, columns=['room_type'])"
   ]
  },
  {
   "cell_type": "code",
   "execution_count": null,
   "metadata": {},
   "outputs": [],
   "source": [
    "june.info()"
   ]
  },
  {
   "cell_type": "code",
   "execution_count": null,
   "metadata": {},
   "outputs": [],
   "source": [
    "sns.scatterplot(data=june, x='longitude', y='latitude', hue='availability_30')"
   ]
  },
  {
   "cell_type": "code",
   "execution_count": null,
   "metadata": {},
   "outputs": [],
   "source": [
    "from sklearn.decomposition import PCA"
   ]
  },
  {
   "cell_type": "code",
   "execution_count": null,
   "metadata": {},
   "outputs": [],
   "source": [
    "X = june.select_dtypes(['number']).drop(columns=['price']).fillna(0)\n",
    "y = june['price']"
   ]
  },
  {
   "cell_type": "code",
   "execution_count": null,
   "metadata": {},
   "outputs": [],
   "source": [
    "pca = PCA()\n",
    "pca.fit(X)"
   ]
  },
  {
   "cell_type": "code",
   "execution_count": null,
   "metadata": {},
   "outputs": [],
   "source": [
    "pd.DataFrame(data=pca.explained_variance_ratio_, index=X.columns).sort_values(by=0, ascending=False).head(20)"
   ]
  },
  {
   "cell_type": "code",
   "execution_count": null,
   "metadata": {},
   "outputs": [],
   "source": [
    "from sklearn.ensemble import GradientBoostingRegressor"
   ]
  },
  {
   "cell_type": "code",
   "execution_count": null,
   "metadata": {},
   "outputs": [],
   "source": [
    "reg = GradientBoostingRegressor(random_state=1331)\n",
    "reg.fit(X, y)"
   ]
  },
  {
   "cell_type": "code",
   "execution_count": null,
   "metadata": {},
   "outputs": [],
   "source": [
    "reg.score(X, y)"
   ]
  },
  {
   "cell_type": "code",
   "execution_count": null,
   "metadata": {},
   "outputs": [],
   "source": [
    "june.columns"
   ]
  },
  {
   "cell_type": "code",
   "execution_count": 6,
   "metadata": {},
   "outputs": [],
   "source": [
    "import pandas as pd\n",
    "import numpy as np\n",
    "import matplotlib.pyplot as plt\n",
    "import seaborn as sns"
   ]
  },
  {
   "cell_type": "code",
   "execution_count": 7,
   "metadata": {},
   "outputs": [],
   "source": [
    "june = pd.read_csv('./data/listings_june.csv')"
   ]
  },
  {
   "cell_type": "code",
   "execution_count": 8,
   "metadata": {},
   "outputs": [],
   "source": [
    "# Chained assignment to work with raw data. Must turn price to float and get bathroom count from bathroom_text\n",
    "june = (\n",
    "    june[\n",
    "        [\n",
    "            \"id\",\n",
    "            \"last_scraped\",\n",
    "            \"latitude\",\n",
    "            \"longitude\",\n",
    "            \"room_type\",\n",
    "            \"accommodates\",\n",
    "            \"bedrooms\",\n",
    "            \"beds\",\n",
    "            \"price\",\n",
    "            \"availability_30\",\n",
    "            \"availability_60\",\n",
    "            \"availability_90\",\n",
    "            \"availability_365\",\n",
    "            \"bathrooms_text\",\n",
    "        ]\n",
    "    ]\n",
    "    .astype({\"last_scraped\": \"datetime64\", \"room_type\": \"object\"})\n",
    "    .assign(\n",
    "        price_float=lambda x: x.price.str.replace(\"[\\$,]\", \"\", regex=True).astype(\n",
    "            \"float\"\n",
    "        ),\n",
    "        bathrooms_count=lambda x: x.bathrooms_text.str.extract(\"(\\d+(?:\\.\\d+)?)\")\n",
    "        .fillna(0)\n",
    "        .astype(\"float\"),\n",
    "        year=lambda x: x.last_scraped.dt.year,\n",
    "        month=lambda x: x.last_scraped.dt.month,\n",
    "        day=lambda x: x.last_scraped.dt.day,\n",
    "        first_mo_occ=lambda x: (30 - x.availability_30),\n",
    "        second_mo_occ=lambda x: (60 - x.availability_60) - x.first_mo_occ,\n",
    "        third_mo_occ=lambda x: (90 - x.availability_90) - x.first_mo_occ - x.second_mo_occ,\n",
    "        month_1_revenue=lambda x: x.price_float * x.first_mo_occ,\n",
    "        month_2_revenue=lambda x: x.price_float * x.second_mo_occ,\n",
    "        month_3_revenue=lambda x: x.price_float * x.third_mo_occ,\n",
    "        total_90_day_revenue=lambda x: (90 - x.availability_90) * x.price_float\n",
    "    )\n",
    "    .drop(columns=[\"price\", \"bathrooms_text\"])\n",
    "    .fillna(0)\n",
    ")"
   ]
  },
  {
   "cell_type": "code",
   "execution_count": 9,
   "metadata": {},
   "outputs": [
    {
     "ename": "KeyboardInterrupt",
     "evalue": "",
     "output_type": "error",
     "traceback": [
      "\u001b[0;31m---------------------------------------------------------------------------\u001b[0m",
      "\u001b[0;31mKeyboardInterrupt\u001b[0m                         Traceback (most recent call last)",
      "\u001b[1;32m/Users/andresperez/My Drive/airbnb-cdmx/cleaning_EDA.ipynb Cell 45\u001b[0m in \u001b[0;36m<cell line: 23>\u001b[0;34m()\u001b[0m\n\u001b[1;32m     <a href='vscode-notebook-cell:/Users/andresperez/My%20Drive/airbnb-cdmx/cleaning_EDA.ipynb#Y106sZmlsZQ%3D%3D?line=19'>20</a>\u001b[0m   plt\u001b[39m.\u001b[39mshow()\n\u001b[1;32m     <a href='vscode-notebook-cell:/Users/andresperez/My%20Drive/airbnb-cdmx/cleaning_EDA.ipynb#Y106sZmlsZQ%3D%3D?line=20'>21</a>\u001b[0m   \u001b[39mpass\u001b[39;00m\n\u001b[0;32m---> <a href='vscode-notebook-cell:/Users/andresperez/My%20Drive/airbnb-cdmx/cleaning_EDA.ipynb#Y106sZmlsZQ%3D%3D?line=22'>23</a>\u001b[0m plot_distributions_continious_target(june, \u001b[39m'\u001b[39;49m\u001b[39mtotal_90_day_revenue\u001b[39;49m\u001b[39m'\u001b[39;49m)\n",
      "\u001b[1;32m/Users/andresperez/My Drive/airbnb-cdmx/cleaning_EDA.ipynb Cell 45\u001b[0m in \u001b[0;36mplot_distributions_continious_target\u001b[0;34m(data, target)\u001b[0m\n\u001b[1;32m      <a href='vscode-notebook-cell:/Users/andresperez/My%20Drive/airbnb-cdmx/cleaning_EDA.ipynb#Y106sZmlsZQ%3D%3D?line=6'>7</a>\u001b[0m   plt\u001b[39m.\u001b[39msubplot(row\u001b[39m+\u001b[39m\u001b[39m1\u001b[39m, \u001b[39m2\u001b[39m, \u001b[39m1\u001b[39m)\n\u001b[1;32m      <a href='vscode-notebook-cell:/Users/andresperez/My%20Drive/airbnb-cdmx/cleaning_EDA.ipynb#Y106sZmlsZQ%3D%3D?line=7'>8</a>\u001b[0m   plt\u001b[39m.\u001b[39mtitle(\u001b[39mf\u001b[39m\u001b[39m\"\u001b[39m\u001b[39m{\u001b[39;00mfeature\u001b[39m}\u001b[39;00m\u001b[39m'\u001b[39m\u001b[39ms Distribution\u001b[39m\u001b[39m\"\u001b[39m)\n\u001b[0;32m----> <a href='vscode-notebook-cell:/Users/andresperez/My%20Drive/airbnb-cdmx/cleaning_EDA.ipynb#Y106sZmlsZQ%3D%3D?line=8'>9</a>\u001b[0m   sns\u001b[39m.\u001b[39;49mcountplot(\n\u001b[1;32m     <a href='vscode-notebook-cell:/Users/andresperez/My%20Drive/airbnb-cdmx/cleaning_EDA.ipynb#Y106sZmlsZQ%3D%3D?line=9'>10</a>\u001b[0m       data\u001b[39m=\u001b[39;49mdata,\n\u001b[1;32m     <a href='vscode-notebook-cell:/Users/andresperez/My%20Drive/airbnb-cdmx/cleaning_EDA.ipynb#Y106sZmlsZQ%3D%3D?line=10'>11</a>\u001b[0m       x\u001b[39m=\u001b[39;49mdata[feature],\n\u001b[1;32m     <a href='vscode-notebook-cell:/Users/andresperez/My%20Drive/airbnb-cdmx/cleaning_EDA.ipynb#Y106sZmlsZQ%3D%3D?line=11'>12</a>\u001b[0m   )\n\u001b[1;32m     <a href='vscode-notebook-cell:/Users/andresperez/My%20Drive/airbnb-cdmx/cleaning_EDA.ipynb#Y106sZmlsZQ%3D%3D?line=12'>13</a>\u001b[0m   \u001b[39m# plt.subplot(row+1, 2, 2)\u001b[39;00m\n\u001b[1;32m     <a href='vscode-notebook-cell:/Users/andresperez/My%20Drive/airbnb-cdmx/cleaning_EDA.ipynb#Y106sZmlsZQ%3D%3D?line=13'>14</a>\u001b[0m   \u001b[39m# plt.title(f\"{target} vs. {feature}\")\u001b[39;00m\n\u001b[1;32m     <a href='vscode-notebook-cell:/Users/andresperez/My%20Drive/airbnb-cdmx/cleaning_EDA.ipynb#Y106sZmlsZQ%3D%3D?line=14'>15</a>\u001b[0m   \u001b[39m# sns.scatterplot(\u001b[39;00m\n\u001b[0;32m   (...)\u001b[0m\n\u001b[1;32m     <a href='vscode-notebook-cell:/Users/andresperez/My%20Drive/airbnb-cdmx/cleaning_EDA.ipynb#Y106sZmlsZQ%3D%3D?line=17'>18</a>\u001b[0m   \u001b[39m#     y=feature,\u001b[39;00m\n\u001b[1;32m     <a href='vscode-notebook-cell:/Users/andresperez/My%20Drive/airbnb-cdmx/cleaning_EDA.ipynb#Y106sZmlsZQ%3D%3D?line=18'>19</a>\u001b[0m   \u001b[39m# )\u001b[39;00m\n\u001b[1;32m     <a href='vscode-notebook-cell:/Users/andresperez/My%20Drive/airbnb-cdmx/cleaning_EDA.ipynb#Y106sZmlsZQ%3D%3D?line=19'>20</a>\u001b[0m plt\u001b[39m.\u001b[39mshow()\n",
      "File \u001b[0;32m~/opt/anaconda3/lib/python3.9/site-packages/seaborn/_decorators.py:46\u001b[0m, in \u001b[0;36m_deprecate_positional_args.<locals>.inner_f\u001b[0;34m(*args, **kwargs)\u001b[0m\n\u001b[1;32m     36\u001b[0m     warnings\u001b[39m.\u001b[39mwarn(\n\u001b[1;32m     37\u001b[0m         \u001b[39m\"\u001b[39m\u001b[39mPass the following variable\u001b[39m\u001b[39m{}\u001b[39;00m\u001b[39m as \u001b[39m\u001b[39m{}\u001b[39;00m\u001b[39mkeyword arg\u001b[39m\u001b[39m{}\u001b[39;00m\u001b[39m: \u001b[39m\u001b[39m{}\u001b[39;00m\u001b[39m. \u001b[39m\u001b[39m\"\u001b[39m\n\u001b[1;32m     38\u001b[0m         \u001b[39m\"\u001b[39m\u001b[39mFrom version 0.12, the only valid positional argument \u001b[39m\u001b[39m\"\u001b[39m\n\u001b[0;32m   (...)\u001b[0m\n\u001b[1;32m     43\u001b[0m         \u001b[39mFutureWarning\u001b[39;00m\n\u001b[1;32m     44\u001b[0m     )\n\u001b[1;32m     45\u001b[0m kwargs\u001b[39m.\u001b[39mupdate({k: arg \u001b[39mfor\u001b[39;00m k, arg \u001b[39min\u001b[39;00m \u001b[39mzip\u001b[39m(sig\u001b[39m.\u001b[39mparameters, args)})\n\u001b[0;32m---> 46\u001b[0m \u001b[39mreturn\u001b[39;00m f(\u001b[39m*\u001b[39;49m\u001b[39m*\u001b[39;49mkwargs)\n",
      "File \u001b[0;32m~/opt/anaconda3/lib/python3.9/site-packages/seaborn/categorical.py:3610\u001b[0m, in \u001b[0;36mcountplot\u001b[0;34m(x, y, hue, data, order, hue_order, orient, color, palette, saturation, dodge, ax, **kwargs)\u001b[0m\n\u001b[1;32m   3607\u001b[0m \u001b[39mif\u001b[39;00m ax \u001b[39mis\u001b[39;00m \u001b[39mNone\u001b[39;00m:\n\u001b[1;32m   3608\u001b[0m     ax \u001b[39m=\u001b[39m plt\u001b[39m.\u001b[39mgca()\n\u001b[0;32m-> 3610\u001b[0m plotter\u001b[39m.\u001b[39;49mplot(ax, kwargs)\n\u001b[1;32m   3611\u001b[0m \u001b[39mreturn\u001b[39;00m ax\n",
      "File \u001b[0;32m~/opt/anaconda3/lib/python3.9/site-packages/seaborn/categorical.py:1640\u001b[0m, in \u001b[0;36m_BarPlotter.plot\u001b[0;34m(self, ax, bar_kws)\u001b[0m\n\u001b[1;32m   1638\u001b[0m \u001b[39m\"\"\"Make the plot.\"\"\"\u001b[39;00m\n\u001b[1;32m   1639\u001b[0m \u001b[39mself\u001b[39m\u001b[39m.\u001b[39mdraw_bars(ax, bar_kws)\n\u001b[0;32m-> 1640\u001b[0m \u001b[39mself\u001b[39;49m\u001b[39m.\u001b[39;49mannotate_axes(ax)\n\u001b[1;32m   1641\u001b[0m \u001b[39mif\u001b[39;00m \u001b[39mself\u001b[39m\u001b[39m.\u001b[39morient \u001b[39m==\u001b[39m \u001b[39m\"\u001b[39m\u001b[39mh\u001b[39m\u001b[39m\"\u001b[39m:\n\u001b[1;32m   1642\u001b[0m     ax\u001b[39m.\u001b[39minvert_yaxis()\n",
      "File \u001b[0;32m~/opt/anaconda3/lib/python3.9/site-packages/seaborn/categorical.py:365\u001b[0m, in \u001b[0;36m_CategoricalPlotter.annotate_axes\u001b[0;34m(self, ax)\u001b[0m\n\u001b[1;32m    362\u001b[0m     group_names \u001b[39m=\u001b[39m [\u001b[39m\"\u001b[39m\u001b[39m\"\u001b[39m \u001b[39mfor\u001b[39;00m _ \u001b[39min\u001b[39;00m \u001b[39mrange\u001b[39m(\u001b[39mlen\u001b[39m(\u001b[39mself\u001b[39m\u001b[39m.\u001b[39mplot_data))]\n\u001b[1;32m    364\u001b[0m \u001b[39mif\u001b[39;00m \u001b[39mself\u001b[39m\u001b[39m.\u001b[39morient \u001b[39m==\u001b[39m \u001b[39m\"\u001b[39m\u001b[39mv\u001b[39m\u001b[39m\"\u001b[39m:\n\u001b[0;32m--> 365\u001b[0m     ax\u001b[39m.\u001b[39;49mset_xticks(np\u001b[39m.\u001b[39;49marange(\u001b[39mlen\u001b[39;49m(\u001b[39mself\u001b[39;49m\u001b[39m.\u001b[39;49mplot_data)))\n\u001b[1;32m    366\u001b[0m     ax\u001b[39m.\u001b[39mset_xticklabels(group_names)\n\u001b[1;32m    367\u001b[0m \u001b[39melse\u001b[39;00m:\n",
      "File \u001b[0;32m~/opt/anaconda3/lib/python3.9/site-packages/matplotlib/axes/_base.py:75\u001b[0m, in \u001b[0;36m_axis_method_wrapper.__set_name__.<locals>.wrapper\u001b[0;34m(self, *args, **kwargs)\u001b[0m\n\u001b[1;32m     74\u001b[0m \u001b[39mdef\u001b[39;00m \u001b[39mwrapper\u001b[39m(\u001b[39mself\u001b[39m, \u001b[39m*\u001b[39margs, \u001b[39m*\u001b[39m\u001b[39m*\u001b[39mkwargs):\n\u001b[0;32m---> 75\u001b[0m     \u001b[39mreturn\u001b[39;00m get_method(\u001b[39mself\u001b[39;49m)(\u001b[39m*\u001b[39;49margs, \u001b[39m*\u001b[39;49m\u001b[39m*\u001b[39;49mkwargs)\n",
      "File \u001b[0;32m~/opt/anaconda3/lib/python3.9/site-packages/matplotlib/axis.py:1855\u001b[0m, in \u001b[0;36mAxis.set_ticks\u001b[0;34m(self, ticks, labels, minor, **kwargs)\u001b[0m\n\u001b[1;32m   1829\u001b[0m \u001b[39mdef\u001b[39;00m \u001b[39mset_ticks\u001b[39m(\u001b[39mself\u001b[39m, ticks, labels\u001b[39m=\u001b[39m\u001b[39mNone\u001b[39;00m, \u001b[39m*\u001b[39m, minor\u001b[39m=\u001b[39m\u001b[39mFalse\u001b[39;00m, \u001b[39m*\u001b[39m\u001b[39m*\u001b[39mkwargs):\n\u001b[1;32m   1830\u001b[0m     \u001b[39m\"\"\"\u001b[39;00m\n\u001b[1;32m   1831\u001b[0m \u001b[39m    Set this Axis' tick locations and optionally labels.\u001b[39;00m\n\u001b[1;32m   1832\u001b[0m \n\u001b[0;32m   (...)\u001b[0m\n\u001b[1;32m   1853\u001b[0m \u001b[39m    ticks.\u001b[39;00m\n\u001b[1;32m   1854\u001b[0m \u001b[39m    \"\"\"\u001b[39;00m\n\u001b[0;32m-> 1855\u001b[0m     result \u001b[39m=\u001b[39m \u001b[39mself\u001b[39;49m\u001b[39m.\u001b[39;49m_set_tick_locations(ticks, minor\u001b[39m=\u001b[39;49mminor)\n\u001b[1;32m   1856\u001b[0m     \u001b[39mif\u001b[39;00m labels \u001b[39mis\u001b[39;00m \u001b[39mnot\u001b[39;00m \u001b[39mNone\u001b[39;00m:\n\u001b[1;32m   1857\u001b[0m         \u001b[39mself\u001b[39m\u001b[39m.\u001b[39mset_ticklabels(labels, minor\u001b[39m=\u001b[39mminor, \u001b[39m*\u001b[39m\u001b[39m*\u001b[39mkwargs)\n",
      "File \u001b[0;32m~/opt/anaconda3/lib/python3.9/site-packages/matplotlib/axis.py:1827\u001b[0m, in \u001b[0;36mAxis._set_tick_locations\u001b[0;34m(self, ticks, minor)\u001b[0m\n\u001b[1;32m   1825\u001b[0m \u001b[39melse\u001b[39;00m:\n\u001b[1;32m   1826\u001b[0m     \u001b[39mself\u001b[39m\u001b[39m.\u001b[39mset_major_locator(mticker\u001b[39m.\u001b[39mFixedLocator(ticks))\n\u001b[0;32m-> 1827\u001b[0m     \u001b[39mreturn\u001b[39;00m \u001b[39mself\u001b[39;49m\u001b[39m.\u001b[39;49mget_major_ticks(\u001b[39mlen\u001b[39;49m(ticks))\n",
      "File \u001b[0;32m~/opt/anaconda3/lib/python3.9/site-packages/matplotlib/axis.py:1375\u001b[0m, in \u001b[0;36mAxis.get_major_ticks\u001b[0;34m(self, numticks)\u001b[0m\n\u001b[1;32m   1371\u001b[0m     numticks \u001b[39m=\u001b[39m \u001b[39mlen\u001b[39m(\u001b[39mself\u001b[39m\u001b[39m.\u001b[39mget_majorticklocs())\n\u001b[1;32m   1373\u001b[0m \u001b[39mwhile\u001b[39;00m \u001b[39mlen\u001b[39m(\u001b[39mself\u001b[39m\u001b[39m.\u001b[39mmajorTicks) \u001b[39m<\u001b[39m numticks:\n\u001b[1;32m   1374\u001b[0m     \u001b[39m# Update the new tick label properties from the old.\u001b[39;00m\n\u001b[0;32m-> 1375\u001b[0m     tick \u001b[39m=\u001b[39m \u001b[39mself\u001b[39;49m\u001b[39m.\u001b[39;49m_get_tick(major\u001b[39m=\u001b[39;49m\u001b[39mTrue\u001b[39;49;00m)\n\u001b[1;32m   1376\u001b[0m     \u001b[39mself\u001b[39m\u001b[39m.\u001b[39mmajorTicks\u001b[39m.\u001b[39mappend(tick)\n\u001b[1;32m   1377\u001b[0m     \u001b[39mself\u001b[39m\u001b[39m.\u001b[39m_copy_tick_props(\u001b[39mself\u001b[39m\u001b[39m.\u001b[39mmajorTicks[\u001b[39m0\u001b[39m], tick)\n",
      "File \u001b[0;32m~/opt/anaconda3/lib/python3.9/site-packages/matplotlib/axis.py:2057\u001b[0m, in \u001b[0;36mXAxis._get_tick\u001b[0;34m(self, major)\u001b[0m\n\u001b[1;32m   2055\u001b[0m \u001b[39melse\u001b[39;00m:\n\u001b[1;32m   2056\u001b[0m     tick_kw \u001b[39m=\u001b[39m \u001b[39mself\u001b[39m\u001b[39m.\u001b[39m_minor_tick_kw\n\u001b[0;32m-> 2057\u001b[0m \u001b[39mreturn\u001b[39;00m XTick(\u001b[39mself\u001b[39;49m\u001b[39m.\u001b[39;49maxes, \u001b[39m0\u001b[39;49m, major\u001b[39m=\u001b[39;49mmajor, \u001b[39m*\u001b[39;49m\u001b[39m*\u001b[39;49mtick_kw)\n",
      "File \u001b[0;32m~/opt/anaconda3/lib/python3.9/site-packages/matplotlib/axis.py:415\u001b[0m, in \u001b[0;36mXTick.__init__\u001b[0;34m(self, *args, **kwargs)\u001b[0m\n\u001b[1;32m    414\u001b[0m \u001b[39mdef\u001b[39;00m \u001b[39m__init__\u001b[39m(\u001b[39mself\u001b[39m, \u001b[39m*\u001b[39margs, \u001b[39m*\u001b[39m\u001b[39m*\u001b[39mkwargs):\n\u001b[0;32m--> 415\u001b[0m     \u001b[39msuper\u001b[39;49m()\u001b[39m.\u001b[39;49m\u001b[39m__init__\u001b[39;49m(\u001b[39m*\u001b[39;49margs, \u001b[39m*\u001b[39;49m\u001b[39m*\u001b[39;49mkwargs)\n\u001b[1;32m    416\u001b[0m     \u001b[39m# x in data coords, y in axes coords\u001b[39;00m\n\u001b[1;32m    417\u001b[0m     ax \u001b[39m=\u001b[39m \u001b[39mself\u001b[39m\u001b[39m.\u001b[39maxes\n",
      "File \u001b[0;32m~/opt/anaconda3/lib/python3.9/site-packages/matplotlib/axis.py:166\u001b[0m, in \u001b[0;36mTick.__init__\u001b[0;34m(self, axes, loc, size, width, color, tickdir, pad, labelsize, labelcolor, zorder, gridOn, tick1On, tick2On, label1On, label2On, major, labelrotation, grid_color, grid_linestyle, grid_linewidth, grid_alpha, **kw)\u001b[0m\n\u001b[1;32m    155\u001b[0m \u001b[39mself\u001b[39m\u001b[39m.\u001b[39mtick2line \u001b[39m=\u001b[39m mlines\u001b[39m.\u001b[39mLine2D(\n\u001b[1;32m    156\u001b[0m     [], [],\n\u001b[1;32m    157\u001b[0m     color\u001b[39m=\u001b[39mcolor, linestyle\u001b[39m=\u001b[39m\u001b[39m\"\u001b[39m\u001b[39mnone\u001b[39m\u001b[39m\"\u001b[39m, zorder\u001b[39m=\u001b[39mzorder, visible\u001b[39m=\u001b[39mtick2On,\n\u001b[1;32m    158\u001b[0m     markeredgecolor\u001b[39m=\u001b[39mcolor, markersize\u001b[39m=\u001b[39msize, markeredgewidth\u001b[39m=\u001b[39mwidth,\n\u001b[1;32m    159\u001b[0m )\n\u001b[1;32m    160\u001b[0m \u001b[39mself\u001b[39m\u001b[39m.\u001b[39mgridline \u001b[39m=\u001b[39m mlines\u001b[39m.\u001b[39mLine2D(\n\u001b[1;32m    161\u001b[0m     [], [],\n\u001b[1;32m    162\u001b[0m     color\u001b[39m=\u001b[39mgrid_color, alpha\u001b[39m=\u001b[39mgrid_alpha, visible\u001b[39m=\u001b[39mgridOn,\n\u001b[1;32m    163\u001b[0m     linestyle\u001b[39m=\u001b[39mgrid_linestyle, linewidth\u001b[39m=\u001b[39mgrid_linewidth, marker\u001b[39m=\u001b[39m\u001b[39m\"\u001b[39m\u001b[39m\"\u001b[39m,\n\u001b[1;32m    164\u001b[0m     \u001b[39m*\u001b[39m\u001b[39m*\u001b[39mgrid_kw,\n\u001b[1;32m    165\u001b[0m )\n\u001b[0;32m--> 166\u001b[0m \u001b[39mself\u001b[39;49m\u001b[39m.\u001b[39;49mgridline\u001b[39m.\u001b[39;49mget_path()\u001b[39m.\u001b[39m_interpolation_steps \u001b[39m=\u001b[39m \\\n\u001b[1;32m    167\u001b[0m     GRIDLINE_INTERPOLATION_STEPS\n\u001b[1;32m    168\u001b[0m \u001b[39mself\u001b[39m\u001b[39m.\u001b[39mlabel1 \u001b[39m=\u001b[39m mtext\u001b[39m.\u001b[39mText(\n\u001b[1;32m    169\u001b[0m     np\u001b[39m.\u001b[39mnan, np\u001b[39m.\u001b[39mnan,\n\u001b[1;32m    170\u001b[0m     fontsize\u001b[39m=\u001b[39mlabelsize, color\u001b[39m=\u001b[39mlabelcolor, visible\u001b[39m=\u001b[39mlabel1On,\n\u001b[1;32m    171\u001b[0m     rotation\u001b[39m=\u001b[39m\u001b[39mself\u001b[39m\u001b[39m.\u001b[39m_labelrotation[\u001b[39m1\u001b[39m])\n\u001b[1;32m    172\u001b[0m \u001b[39mself\u001b[39m\u001b[39m.\u001b[39mlabel2 \u001b[39m=\u001b[39m mtext\u001b[39m.\u001b[39mText(\n\u001b[1;32m    173\u001b[0m     np\u001b[39m.\u001b[39mnan, np\u001b[39m.\u001b[39mnan,\n\u001b[1;32m    174\u001b[0m     fontsize\u001b[39m=\u001b[39mlabelsize, color\u001b[39m=\u001b[39mlabelcolor, visible\u001b[39m=\u001b[39mlabel2On,\n\u001b[1;32m    175\u001b[0m     rotation\u001b[39m=\u001b[39m\u001b[39mself\u001b[39m\u001b[39m.\u001b[39m_labelrotation[\u001b[39m1\u001b[39m])\n",
      "File \u001b[0;32m~/opt/anaconda3/lib/python3.9/site-packages/matplotlib/lines.py:999\u001b[0m, in \u001b[0;36mLine2D.get_path\u001b[0;34m(self)\u001b[0m\n\u001b[1;32m    997\u001b[0m \u001b[39m\"\"\"Return the `~matplotlib.path.Path` associated with this line.\"\"\"\u001b[39;00m\n\u001b[1;32m    998\u001b[0m \u001b[39mif\u001b[39;00m \u001b[39mself\u001b[39m\u001b[39m.\u001b[39m_invalidy \u001b[39mor\u001b[39;00m \u001b[39mself\u001b[39m\u001b[39m.\u001b[39m_invalidx:\n\u001b[0;32m--> 999\u001b[0m     \u001b[39mself\u001b[39;49m\u001b[39m.\u001b[39;49mrecache()\n\u001b[1;32m   1000\u001b[0m \u001b[39mreturn\u001b[39;00m \u001b[39mself\u001b[39m\u001b[39m.\u001b[39m_path\n",
      "File \u001b[0;32m~/opt/anaconda3/lib/python3.9/site-packages/matplotlib/lines.py:686\u001b[0m, in \u001b[0;36mLine2D.recache\u001b[0;34m(self, always)\u001b[0m\n\u001b[1;32m    684\u001b[0m     interpolation_steps \u001b[39m=\u001b[39m \u001b[39m1\u001b[39m\n\u001b[1;32m    685\u001b[0m xy \u001b[39m=\u001b[39m STEP_LOOKUP_MAP[\u001b[39mself\u001b[39m\u001b[39m.\u001b[39m_drawstyle](\u001b[39m*\u001b[39m\u001b[39mself\u001b[39m\u001b[39m.\u001b[39m_xy\u001b[39m.\u001b[39mT)\n\u001b[0;32m--> 686\u001b[0m \u001b[39mself\u001b[39m\u001b[39m.\u001b[39m_path \u001b[39m=\u001b[39m Path(np\u001b[39m.\u001b[39;49masarray(xy)\u001b[39m.\u001b[39;49mT,\n\u001b[1;32m    687\u001b[0m                   _interpolation_steps\u001b[39m=\u001b[39;49minterpolation_steps)\n\u001b[1;32m    688\u001b[0m \u001b[39mself\u001b[39m\u001b[39m.\u001b[39m_transformed_path \u001b[39m=\u001b[39m \u001b[39mNone\u001b[39;00m\n\u001b[1;32m    689\u001b[0m \u001b[39mself\u001b[39m\u001b[39m.\u001b[39m_invalidx \u001b[39m=\u001b[39m \u001b[39mFalse\u001b[39;00m\n",
      "File \u001b[0;32m~/opt/anaconda3/lib/python3.9/site-packages/matplotlib/path.py:130\u001b[0m, in \u001b[0;36mPath.__init__\u001b[0;34m(self, vertices, codes, _interpolation_steps, closed, readonly)\u001b[0m\n\u001b[1;32m    101\u001b[0m \u001b[39m\"\"\"\u001b[39;00m\n\u001b[1;32m    102\u001b[0m \u001b[39mCreate a new path with the given vertices and codes.\u001b[39;00m\n\u001b[1;32m    103\u001b[0m \n\u001b[0;32m   (...)\u001b[0m\n\u001b[1;32m    127\u001b[0m \u001b[39m    and codes as read-only arrays.\u001b[39;00m\n\u001b[1;32m    128\u001b[0m \u001b[39m\"\"\"\u001b[39;00m\n\u001b[1;32m    129\u001b[0m vertices \u001b[39m=\u001b[39m _to_unmasked_float_array(vertices)\n\u001b[0;32m--> 130\u001b[0m _api\u001b[39m.\u001b[39;49mcheck_shape((\u001b[39mNone\u001b[39;49;00m, \u001b[39m2\u001b[39;49m), vertices\u001b[39m=\u001b[39;49mvertices)\n\u001b[1;32m    132\u001b[0m \u001b[39mif\u001b[39;00m codes \u001b[39mis\u001b[39;00m \u001b[39mnot\u001b[39;00m \u001b[39mNone\u001b[39;00m:\n\u001b[1;32m    133\u001b[0m     codes \u001b[39m=\u001b[39m np\u001b[39m.\u001b[39masarray(codes, \u001b[39mself\u001b[39m\u001b[39m.\u001b[39mcode_type)\n",
      "File \u001b[0;32m~/opt/anaconda3/lib/python3.9/site-packages/matplotlib/_api/__init__.py:154\u001b[0m, in \u001b[0;36mcheck_shape\u001b[0;34m(_shape, **kwargs)\u001b[0m\n\u001b[1;32m    149\u001b[0m \u001b[39mfor\u001b[39;00m k, v \u001b[39min\u001b[39;00m kwargs\u001b[39m.\u001b[39mitems():\n\u001b[1;32m    150\u001b[0m     data_shape \u001b[39m=\u001b[39m v\u001b[39m.\u001b[39mshape\n\u001b[1;32m    152\u001b[0m     \u001b[39mif\u001b[39;00m \u001b[39mlen\u001b[39m(target_shape) \u001b[39m!=\u001b[39m \u001b[39mlen\u001b[39m(data_shape) \u001b[39mor\u001b[39;00m \u001b[39many\u001b[39m(\n\u001b[1;32m    153\u001b[0m             t \u001b[39mnot\u001b[39;00m \u001b[39min\u001b[39;00m [s, \u001b[39mNone\u001b[39;00m]\n\u001b[0;32m--> 154\u001b[0m             \u001b[39mfor\u001b[39;00m t, s \u001b[39min\u001b[39;00m \u001b[39mzip\u001b[39;49m(target_shape, data_shape)\n\u001b[1;32m    155\u001b[0m     ):\n\u001b[1;32m    156\u001b[0m         dim_labels \u001b[39m=\u001b[39m \u001b[39miter\u001b[39m(itertools\u001b[39m.\u001b[39mchain(\n\u001b[1;32m    157\u001b[0m             \u001b[39m'\u001b[39m\u001b[39mMNLIJKLH\u001b[39m\u001b[39m'\u001b[39m,\n\u001b[1;32m    158\u001b[0m             (\u001b[39mf\u001b[39m\u001b[39m\"\u001b[39m\u001b[39mD\u001b[39m\u001b[39m{\u001b[39;00mi\u001b[39m}\u001b[39;00m\u001b[39m\"\u001b[39m \u001b[39mfor\u001b[39;00m i \u001b[39min\u001b[39;00m itertools\u001b[39m.\u001b[39mcount())))\n\u001b[1;32m    159\u001b[0m         text_shape \u001b[39m=\u001b[39m \u001b[39m\"\u001b[39m\u001b[39m, \u001b[39m\u001b[39m\"\u001b[39m\u001b[39m.\u001b[39mjoin((\u001b[39mstr\u001b[39m(n)\n\u001b[1;32m    160\u001b[0m                                 \u001b[39mif\u001b[39;00m n \u001b[39mis\u001b[39;00m \u001b[39mnot\u001b[39;00m \u001b[39mNone\u001b[39;00m\n\u001b[1;32m    161\u001b[0m                                 \u001b[39melse\u001b[39;00m \u001b[39mnext\u001b[39m(dim_labels)\n\u001b[1;32m    162\u001b[0m                                 \u001b[39mfor\u001b[39;00m n \u001b[39min\u001b[39;00m target_shape))\n",
      "\u001b[0;31mKeyboardInterrupt\u001b[0m: "
     ]
    }
   ],
   "source": [
    "def plot_distributions_continious_target(data, target):\n",
    "  nums = data.select_dtypes(include=np.number)\n",
    "  cats = data.select_dtypes(exclude=np.number)\n",
    "  for row, feature in enumerate(nums.columns):\n",
    "    # Check for numeric feature\n",
    "    plt.figure(figsize=(12, 6))\n",
    "    plt.subplot(row+1, 2, 1)\n",
    "    plt.title(f\"{feature}'s Distribution\")\n",
    "    sns.countplot(\n",
    "        data=nums,\n",
    "        x=nums[feature],\n",
    "    )\n",
    "    # plt.subplot(row+1, 2, 2)\n",
    "    # plt.title(f\"{target} vs. {feature}\")\n",
    "    # sns.scatterplot(\n",
    "    #     data=data,\n",
    "    #     x=target,\n",
    "    #     y=feature,\n",
    "    # )\n",
    "  plt.show()\n",
    "  pass\n",
    "\n",
    "plot_distributions_continious_target(june, 'total_90_day_revenue')\n",
    "# def num_dist_plot(feature_list):\n",
    "#   for row, feature in enumerate(feature_list):\n",
    "#     plt.figure(figsize=(12, 6))\n",
    "#     plt.subplot(row+1, 2, 1)\n",
    "#     plt.title(f\"{feature}'s Distribution\")\n",
    "#     sns.histplot(\n",
    "#         data=data,\n",
    "#         x=data[feature],\n",
    "#         bins=10\n",
    "#     )\n",
    "#     # plt.subplot(row+1, 2, 2)\n",
    "#     # plt.title(f\"{feature}'s Distribution by Charge-Off\")\n",
    "#     # sns.histplot(\n",
    "#     #     data=data,\n",
    "#     #     x=data[feature],\n",
    "#     #     # hue='target',\n",
    "#     #     bins=10\n",
    "#     # )\n",
    "#     plt.show()\n",
    "#   pass"
   ]
  },
  {
   "cell_type": "code",
   "execution_count": 20,
   "metadata": {},
   "outputs": [
    {
     "data": {
      "text/plain": [
       "(['room_type'],\n",
       " ['latitude',\n",
       "  'longitude',\n",
       "  'accommodates',\n",
       "  'bedrooms',\n",
       "  'beds',\n",
       "  'availability_30',\n",
       "  'availability_60',\n",
       "  'availability_90',\n",
       "  'availability_365',\n",
       "  'price_float',\n",
       "  'bathrooms_count',\n",
       "  'year',\n",
       "  'month',\n",
       "  'day',\n",
       "  'first_mo_occ',\n",
       "  'second_mo_occ',\n",
       "  'third_mo_occ',\n",
       "  'month_1_revenue',\n",
       "  'month_2_revenue',\n",
       "  'month_3_revenue',\n",
       "  'total_90_day_revenue'])"
      ]
     },
     "execution_count": 20,
     "metadata": {},
     "output_type": "execute_result"
    }
   ],
   "source": [
    "cats=['room_type']\n",
    "nums = [col for col in list(june.columns) if col not in cats and col != 'id' and col != 'last_scraped']\n",
    "cats, nums"
   ]
  },
  {
   "cell_type": "code",
   "execution_count": 21,
   "metadata": {},
   "outputs": [
    {
     "data": {
      "image/png": "[encoded data removed]",
      "text/plain": [
       "<Figure size 864x432 with 1 Axes>"
      ]
     },
     "metadata": {
      "needs_background": "light"
     },
     "output_type": "display_data"
    }
   ],
   "source": [
    "data = june.copy()\n",
    "cat_dist_plot(cats)"
   ]
  },
  {
   "cell_type": "code",
   "execution_count": 22,
   "metadata": {},
   "outputs": [
    {
     "data": {
      "image/png": "[encoded data removed]",
      "text/plain": [
       "<Figure size 864x432 with 1 Axes>"
      ]
     },
     "metadata": {
      "needs_background": "light"
     },
     "output_type": "display_data"
    },
    {
     "data": {
      "image/png": "[encoded data removed]",
      "text/plain": [
       "<Figure size 864x432 with 1 Axes>"
      ]
     },
     "metadata": {
      "needs_background": "light"
     },
     "output_type": "display_data"
    },
    {
     "data": {
      "image/png": "[encoded data removed]",
      "text/plain": [
       "<Figure size 864x432 with 1 Axes>"
      ]
     },
     "metadata": {
      "needs_background": "light"
     },
     "output_type": "display_data"
    },
    {
     "data": {
      "image/png": "[encoded data removed]",
      "text/plain": [
       "<Figure size 864x432 with 1 Axes>"
      ]
     },
     "metadata": {
      "needs_background": "light"
     },
     "output_type": "display_data"
    },
    {
     "data": {
      "image/png": "[encoded data removed]",
      "text/plain": [
       "<Figure size 864x432 with 1 Axes>"
      ]
     },
     "metadata": {
      "needs_background": "light"
     },
     "output_type": "display_data"
    },
    {
     "data": {
      "image/png": "[encoded data removed]",
      "text/plain": [
       "<Figure size 864x432 with 1 Axes>"
      ]
     },
     "metadata": {
      "needs_background": "light"
     },
     "output_type": "display_data"
    },
    {
     "data": {
      "image/png": "[encoded data removed]",
      "text/plain": [
       "<Figure size 864x432 with 1 Axes>"
      ]
     },
     "metadata": {
      "needs_background": "light"
     },
     "output_type": "display_data"
    },
    {
     "data": {
      "image/png": "[encoded data removed]",
      "text/plain": [
       "<Figure size 864x432 with 1 Axes>"
      ]
     },
     "metadata": {
      "needs_background": "light"
     },
     "output_type": "display_data"
    },
    {
     "data": {
      "image/png": "[encoded data removed]",
      "text/plain": [
       "<Figure size 864x432 with 1 Axes>"
      ]
     },
     "metadata": {
      "needs_background": "light"
     },
     "output_type": "display_data"
    },
    {
     "data": {
      "image/png": "[encoded data removed]",
      "text/plain": [
       "<Figure size 864x432 with 1 Axes>"
      ]
     },
     "metadata": {
      "needs_background": "light"
     },
     "output_type": "display_data"
    },
    {
     "data": {
      "image/png": "[encoded data removed]",
      "text/plain": [
       "<Figure size 864x432 with 1 Axes>"
      ]
     },
     "metadata": {
      "needs_background": "light"
     },
     "output_type": "display_data"
    },
    {
     "data": {
      "image/png": "[encoded data removed]",
      "text/plain": [
       "<Figure size 864x432 with 1 Axes>"
      ]
     },
     "metadata": {
      "needs_background": "light"
     },
     "output_type": "display_data"
    },
    {
     "data": {
      "image/png": "[encoded data removed]",
      "text/plain": [
       "<Figure size 864x432 with 1 Axes>"
      ]
     },
     "metadata": {
      "needs_background": "light"
     },
     "output_type": "display_data"
    },
    {
     "data": {
      "image/png": "[encoded data removed]",
      "text/plain": [
       "<Figure size 864x432 with 1 Axes>"
      ]
     },
     "metadata": {
      "needs_background": "light"
     },
     "output_type": "display_data"
    },
    {
     "data": {
      "image/png": "[encoded data removed]",
      "text/plain": [
       "<Figure size 864x432 with 1 Axes>"
      ]
     },
     "metadata": {
      "needs_background": "light"
     },
     "output_type": "display_data"
    },
    {
     "data": {
      "image/png": "[encoded data removed]",
      "text/plain": [
       "<Figure size 864x432 with 1 Axes>"
      ]
     },
     "metadata": {
      "needs_background": "light"
     },
     "output_type": "display_data"
    },
    {
     "data": {
      "image/png": "[encoded data removed]",
      "text/plain": [
       "<Figure size 864x432 with 1 Axes>"
      ]
     },
     "metadata": {
      "needs_background": "light"
     },
     "output_type": "display_data"
    },
    {
     "data": {
      "image/png": "[encoded data removed]",
      "text/plain": [
       "<Figure size 864x432 with 1 Axes>"
      ]
     },
     "metadata": {
      "needs_background": "light"
     },
     "output_type": "display_data"
    },
    {
     "data": {
      "image/png": "[encoded data removed]",
      "text/plain": [
       "<Figure size 864x432 with 1 Axes>"
      ]
     },
     "metadata": {
      "needs_background": "light"
     },
     "output_type": "display_data"
    },
    {
     "data": {
      "image/png": "[encoded data removed]",
      "text/plain": [
       "<Figure size 864x432 with 1 Axes>"
      ]
     },
     "metadata": {
      "needs_background": "light"
     },
     "output_type": "display_data"
    },
    {
     "data": {
      "image/png": "[encoded data removed]",
      "text/plain": [
       "<Figure size 864x432 with 1 Axes>"
      ]
     },
     "metadata": {
      "needs_background": "light"
     },
     "output_type": "display_data"
    }
   ],
   "source": [
    "num_dist_plot(nums)"
   ]
  },
  {
   "cell_type": "code",
   "execution_count": 51,
   "metadata": {},
   "outputs": [
    {
     "data": {
      "text/plain": [
       "605"
      ]
     },
     "execution_count": 51,
     "metadata": {},
     "output_type": "execute_result"
    }
   ],
   "source": [
    "X = june[\n",
    "    [\n",
    "        \"latitude\",\n",
    "        \"longitude\",\n",
    "        \"room_type\",\n",
    "        \"accommodates\",\n",
    "        \"bedrooms\",\n",
    "        \"beds\",\n",
    "        \"bathrooms_count\",\n",
    "    ]\n",
    "]\n",
    "\n",
    "X.duplicated().sum()"
   ]
  },
  {
   "cell_type": "code",
   "execution_count": 52,
   "metadata": {},
   "outputs": [],
   "source": [
    "from sklearn.preprocessing import StandardScaler, OneHotEncoder\n",
    "from sklearn.compose import make_column_transformer\n",
    "from sklearn.compose import make_column_selector\n",
    "import numpy as np\n",
    "from sklearn.cluster import KMeans\n",
    "\n",
    "ct = make_column_transformer(\n",
    "    (StandardScaler(), make_column_selector(dtype_include=np.number)),\n",
    "    (OneHotEncoder(), make_column_selector(dtype_include=object)),\n",
    ")"
   ]
  },
  {
   "cell_type": "code",
   "execution_count": 53,
   "metadata": {},
   "outputs": [],
   "source": [
    "X_Sc = ct.fit_transform(X)"
   ]
  },
  {
   "cell_type": "code",
   "execution_count": 54,
   "metadata": {},
   "outputs": [
    {
     "data": {
      "text/plain": [
       "array([9, 9, 9, ..., 8, 8, 4], dtype=int32)"
      ]
     },
     "execution_count": 54,
     "metadata": {},
     "output_type": "execute_result"
    }
   ],
   "source": [
    "kmeans = KMeans(n_clusters=12, random_state=1331).fit(X_Sc)\n",
    "kmeans.labels_"
   ]
  },
  {
   "cell_type": "code",
   "execution_count": 55,
   "metadata": {},
   "outputs": [],
   "source": [
    "june['cluster'] = kmeans.labels_"
   ]
  },
  {
   "cell_type": "code",
   "execution_count": 56,
   "metadata": {},
   "outputs": [
    {
     "data": {
      "text/html": [
       "<div>\n",
       "<style scoped>\n",
       "    .dataframe tbody tr th:only-of-type {\n",
       "        vertical-align: middle;\n",
       "    }\n",
       "\n",
       "    .dataframe tbody tr th {\n",
       "        vertical-align: top;\n",
       "    }\n",
       "\n",
       "    .dataframe thead th {\n",
       "        text-align: right;\n",
       "    }\n",
       "</style>\n",
       "<table border=\"1\" class=\"dataframe\">\n",
       "  <thead>\n",
       "    <tr style=\"text-align: right;\">\n",
       "      <th></th>\n",
       "      <th>id</th>\n",
       "      <th>last_scraped</th>\n",
       "      <th>latitude</th>\n",
       "      <th>longitude</th>\n",
       "      <th>room_type</th>\n",
       "      <th>accommodates</th>\n",
       "      <th>bedrooms</th>\n",
       "      <th>beds</th>\n",
       "      <th>availability_30</th>\n",
       "      <th>availability_60</th>\n",
       "      <th>...</th>\n",
       "      <th>month</th>\n",
       "      <th>day</th>\n",
       "      <th>first_mo_occ</th>\n",
       "      <th>second_mo_occ</th>\n",
       "      <th>third_mo_occ</th>\n",
       "      <th>month_1_revenue</th>\n",
       "      <th>month_2_revenue</th>\n",
       "      <th>month_3_revenue</th>\n",
       "      <th>total_90_day_revenue</th>\n",
       "      <th>cluster</th>\n",
       "    </tr>\n",
       "  </thead>\n",
       "  <tbody>\n",
       "    <tr>\n",
       "      <th>0</th>\n",
       "      <td>52390579</td>\n",
       "      <td>2022-06-21</td>\n",
       "      <td>19.395126</td>\n",
       "      <td>-99.277374</td>\n",
       "      <td>Private room</td>\n",
       "      <td>1</td>\n",
       "      <td>3.0</td>\n",
       "      <td>1.0</td>\n",
       "      <td>30</td>\n",
       "      <td>60</td>\n",
       "      <td>...</td>\n",
       "      <td>6</td>\n",
       "      <td>21</td>\n",
       "      <td>0</td>\n",
       "      <td>0</td>\n",
       "      <td>0</td>\n",
       "      <td>0.0</td>\n",
       "      <td>0.0</td>\n",
       "      <td>0.0</td>\n",
       "      <td>0.0</td>\n",
       "      <td>9</td>\n",
       "    </tr>\n",
       "    <tr>\n",
       "      <th>1</th>\n",
       "      <td>35797</td>\n",
       "      <td>2022-06-21</td>\n",
       "      <td>19.382830</td>\n",
       "      <td>-99.271780</td>\n",
       "      <td>Entire home/apt</td>\n",
       "      <td>2</td>\n",
       "      <td>1.0</td>\n",
       "      <td>1.0</td>\n",
       "      <td>28</td>\n",
       "      <td>58</td>\n",
       "      <td>...</td>\n",
       "      <td>6</td>\n",
       "      <td>21</td>\n",
       "      <td>2</td>\n",
       "      <td>0</td>\n",
       "      <td>0</td>\n",
       "      <td>8112.0</td>\n",
       "      <td>0.0</td>\n",
       "      <td>0.0</td>\n",
       "      <td>8112.0</td>\n",
       "      <td>9</td>\n",
       "    </tr>\n",
       "    <tr>\n",
       "      <th>2</th>\n",
       "      <td>15511977</td>\n",
       "      <td>2022-06-21</td>\n",
       "      <td>19.410950</td>\n",
       "      <td>-99.244180</td>\n",
       "      <td>Private room</td>\n",
       "      <td>2</td>\n",
       "      <td>1.0</td>\n",
       "      <td>1.0</td>\n",
       "      <td>29</td>\n",
       "      <td>59</td>\n",
       "      <td>...</td>\n",
       "      <td>6</td>\n",
       "      <td>21</td>\n",
       "      <td>1</td>\n",
       "      <td>0</td>\n",
       "      <td>0</td>\n",
       "      <td>800.0</td>\n",
       "      <td>0.0</td>\n",
       "      <td>0.0</td>\n",
       "      <td>800.0</td>\n",
       "      <td>9</td>\n",
       "    </tr>\n",
       "    <tr>\n",
       "      <th>3</th>\n",
       "      <td>44616</td>\n",
       "      <td>2022-06-22</td>\n",
       "      <td>19.411620</td>\n",
       "      <td>-99.177940</td>\n",
       "      <td>Entire home/apt</td>\n",
       "      <td>14</td>\n",
       "      <td>5.0</td>\n",
       "      <td>8.0</td>\n",
       "      <td>26</td>\n",
       "      <td>53</td>\n",
       "      <td>...</td>\n",
       "      <td>6</td>\n",
       "      <td>22</td>\n",
       "      <td>4</td>\n",
       "      <td>3</td>\n",
       "      <td>0</td>\n",
       "      <td>72000.0</td>\n",
       "      <td>54000.0</td>\n",
       "      <td>0.0</td>\n",
       "      <td>126000.0</td>\n",
       "      <td>7</td>\n",
       "    </tr>\n",
       "    <tr>\n",
       "      <th>4</th>\n",
       "      <td>34776449</td>\n",
       "      <td>2022-06-21</td>\n",
       "      <td>19.426410</td>\n",
       "      <td>-99.225910</td>\n",
       "      <td>Private room</td>\n",
       "      <td>3</td>\n",
       "      <td>1.0</td>\n",
       "      <td>2.0</td>\n",
       "      <td>23</td>\n",
       "      <td>46</td>\n",
       "      <td>...</td>\n",
       "      <td>6</td>\n",
       "      <td>21</td>\n",
       "      <td>7</td>\n",
       "      <td>7</td>\n",
       "      <td>2</td>\n",
       "      <td>12453.0</td>\n",
       "      <td>12453.0</td>\n",
       "      <td>3558.0</td>\n",
       "      <td>28464.0</td>\n",
       "      <td>0</td>\n",
       "    </tr>\n",
       "    <tr>\n",
       "      <th>...</th>\n",
       "      <td>...</td>\n",
       "      <td>...</td>\n",
       "      <td>...</td>\n",
       "      <td>...</td>\n",
       "      <td>...</td>\n",
       "      <td>...</td>\n",
       "      <td>...</td>\n",
       "      <td>...</td>\n",
       "      <td>...</td>\n",
       "      <td>...</td>\n",
       "      <td>...</td>\n",
       "      <td>...</td>\n",
       "      <td>...</td>\n",
       "      <td>...</td>\n",
       "      <td>...</td>\n",
       "      <td>...</td>\n",
       "      <td>...</td>\n",
       "      <td>...</td>\n",
       "      <td>...</td>\n",
       "      <td>...</td>\n",
       "      <td>...</td>\n",
       "    </tr>\n",
       "    <tr>\n",
       "      <th>21664</th>\n",
       "      <td>618034488468131637</td>\n",
       "      <td>2022-06-21</td>\n",
       "      <td>19.499980</td>\n",
       "      <td>-99.226010</td>\n",
       "      <td>Entire home/apt</td>\n",
       "      <td>4</td>\n",
       "      <td>1.0</td>\n",
       "      <td>2.0</td>\n",
       "      <td>20</td>\n",
       "      <td>50</td>\n",
       "      <td>...</td>\n",
       "      <td>6</td>\n",
       "      <td>21</td>\n",
       "      <td>10</td>\n",
       "      <td>0</td>\n",
       "      <td>0</td>\n",
       "      <td>6730.0</td>\n",
       "      <td>0.0</td>\n",
       "      <td>0.0</td>\n",
       "      <td>6730.0</td>\n",
       "      <td>8</td>\n",
       "    </tr>\n",
       "    <tr>\n",
       "      <th>21665</th>\n",
       "      <td>22107097</td>\n",
       "      <td>2022-06-21</td>\n",
       "      <td>19.507870</td>\n",
       "      <td>-99.220670</td>\n",
       "      <td>Entire home/apt</td>\n",
       "      <td>3</td>\n",
       "      <td>1.0</td>\n",
       "      <td>2.0</td>\n",
       "      <td>0</td>\n",
       "      <td>9</td>\n",
       "      <td>...</td>\n",
       "      <td>6</td>\n",
       "      <td>21</td>\n",
       "      <td>30</td>\n",
       "      <td>21</td>\n",
       "      <td>0</td>\n",
       "      <td>26910.0</td>\n",
       "      <td>18837.0</td>\n",
       "      <td>0.0</td>\n",
       "      <td>45747.0</td>\n",
       "      <td>8</td>\n",
       "    </tr>\n",
       "    <tr>\n",
       "      <th>21666</th>\n",
       "      <td>40617809</td>\n",
       "      <td>2022-06-21</td>\n",
       "      <td>19.507530</td>\n",
       "      <td>-99.225060</td>\n",
       "      <td>Entire home/apt</td>\n",
       "      <td>1</td>\n",
       "      <td>1.0</td>\n",
       "      <td>1.0</td>\n",
       "      <td>0</td>\n",
       "      <td>0</td>\n",
       "      <td>...</td>\n",
       "      <td>6</td>\n",
       "      <td>21</td>\n",
       "      <td>30</td>\n",
       "      <td>30</td>\n",
       "      <td>30</td>\n",
       "      <td>6900.0</td>\n",
       "      <td>6900.0</td>\n",
       "      <td>6900.0</td>\n",
       "      <td>20700.0</td>\n",
       "      <td>8</td>\n",
       "    </tr>\n",
       "    <tr>\n",
       "      <th>21667</th>\n",
       "      <td>569519288654139909</td>\n",
       "      <td>2022-06-21</td>\n",
       "      <td>19.493360</td>\n",
       "      <td>-99.229090</td>\n",
       "      <td>Entire home/apt</td>\n",
       "      <td>1</td>\n",
       "      <td>1.0</td>\n",
       "      <td>1.0</td>\n",
       "      <td>19</td>\n",
       "      <td>49</td>\n",
       "      <td>...</td>\n",
       "      <td>6</td>\n",
       "      <td>21</td>\n",
       "      <td>11</td>\n",
       "      <td>0</td>\n",
       "      <td>0</td>\n",
       "      <td>7590.0</td>\n",
       "      <td>0.0</td>\n",
       "      <td>0.0</td>\n",
       "      <td>7590.0</td>\n",
       "      <td>8</td>\n",
       "    </tr>\n",
       "    <tr>\n",
       "      <th>21668</th>\n",
       "      <td>37175605</td>\n",
       "      <td>2022-06-21</td>\n",
       "      <td>19.490040</td>\n",
       "      <td>-99.230310</td>\n",
       "      <td>Entire home/apt</td>\n",
       "      <td>6</td>\n",
       "      <td>6.0</td>\n",
       "      <td>5.0</td>\n",
       "      <td>10</td>\n",
       "      <td>10</td>\n",
       "      <td>...</td>\n",
       "      <td>6</td>\n",
       "      <td>21</td>\n",
       "      <td>20</td>\n",
       "      <td>30</td>\n",
       "      <td>30</td>\n",
       "      <td>64560.0</td>\n",
       "      <td>96840.0</td>\n",
       "      <td>96840.0</td>\n",
       "      <td>258240.0</td>\n",
       "      <td>4</td>\n",
       "    </tr>\n",
       "  </tbody>\n",
       "</table>\n",
       "<p>21669 rows × 25 columns</p>\n",
       "</div>"
      ],
      "text/plain": [
       "                       id last_scraped   latitude  longitude        room_type  \\\n",
       "0                52390579   2022-06-21  19.395126 -99.277374     Private room   \n",
       "1                   35797   2022-06-21  19.382830 -99.271780  Entire home/apt   \n",
       "2                15511977   2022-06-21  19.410950 -99.244180     Private room   \n",
       "3                   44616   2022-06-22  19.411620 -99.177940  Entire home/apt   \n",
       "4                34776449   2022-06-21  19.426410 -99.225910     Private room   \n",
       "...                   ...          ...        ...        ...              ...   \n",
       "21664  618034488468131637   2022-06-21  19.499980 -99.226010  Entire home/apt   \n",
       "21665            22107097   2022-06-21  19.507870 -99.220670  Entire home/apt   \n",
       "21666            40617809   2022-06-21  19.507530 -99.225060  Entire home/apt   \n",
       "21667  569519288654139909   2022-06-21  19.493360 -99.229090  Entire home/apt   \n",
       "21668            37175605   2022-06-21  19.490040 -99.230310  Entire home/apt   \n",
       "\n",
       "       accommodates  bedrooms  beds  availability_30  availability_60  ...  \\\n",
       "0                 1       3.0   1.0               30               60  ...   \n",
       "1                 2       1.0   1.0               28               58  ...   \n",
       "2                 2       1.0   1.0               29               59  ...   \n",
       "3                14       5.0   8.0               26               53  ...   \n",
       "4                 3       1.0   2.0               23               46  ...   \n",
       "...             ...       ...   ...              ...              ...  ...   \n",
       "21664             4       1.0   2.0               20               50  ...   \n",
       "21665             3       1.0   2.0                0                9  ...   \n",
       "21666             1       1.0   1.0                0                0  ...   \n",
       "21667             1       1.0   1.0               19               49  ...   \n",
       "21668             6       6.0   5.0               10               10  ...   \n",
       "\n",
       "       month  day  first_mo_occ  second_mo_occ  third_mo_occ  month_1_revenue  \\\n",
       "0          6   21             0              0             0              0.0   \n",
       "1          6   21             2              0             0           8112.0   \n",
       "2          6   21             1              0             0            800.0   \n",
       "3          6   22             4              3             0          72000.0   \n",
       "4          6   21             7              7             2          12453.0   \n",
       "...      ...  ...           ...            ...           ...              ...   \n",
       "21664      6   21            10              0             0           6730.0   \n",
       "21665      6   21            30             21             0          26910.0   \n",
       "21666      6   21            30             30            30           6900.0   \n",
       "21667      6   21            11              0             0           7590.0   \n",
       "21668      6   21            20             30            30          64560.0   \n",
       "\n",
       "       month_2_revenue  month_3_revenue  total_90_day_revenue  cluster  \n",
       "0                  0.0              0.0                   0.0        9  \n",
       "1                  0.0              0.0                8112.0        9  \n",
       "2                  0.0              0.0                 800.0        9  \n",
       "3              54000.0              0.0              126000.0        7  \n",
       "4              12453.0           3558.0               28464.0        0  \n",
       "...                ...              ...                   ...      ...  \n",
       "21664              0.0              0.0                6730.0        8  \n",
       "21665          18837.0              0.0               45747.0        8  \n",
       "21666           6900.0           6900.0               20700.0        8  \n",
       "21667              0.0              0.0                7590.0        8  \n",
       "21668          96840.0          96840.0              258240.0        4  \n",
       "\n",
       "[21669 rows x 25 columns]"
      ]
     },
     "execution_count": 56,
     "metadata": {},
     "output_type": "execute_result"
    }
   ],
   "source": [
    "june"
   ]
  },
  {
   "cell_type": "code",
   "execution_count": 58,
   "metadata": {},
   "outputs": [
    {
     "data": {
      "text/html": [
       "<div>\n",
       "<style scoped>\n",
       "    .dataframe tbody tr th:only-of-type {\n",
       "        vertical-align: middle;\n",
       "    }\n",
       "\n",
       "    .dataframe tbody tr th {\n",
       "        vertical-align: top;\n",
       "    }\n",
       "\n",
       "    .dataframe thead th {\n",
       "        text-align: right;\n",
       "    }\n",
       "</style>\n",
       "<table border=\"1\" class=\"dataframe\">\n",
       "  <thead>\n",
       "    <tr style=\"text-align: right;\">\n",
       "      <th></th>\n",
       "      <th>id</th>\n",
       "      <th>latitude</th>\n",
       "      <th>longitude</th>\n",
       "      <th>accommodates</th>\n",
       "      <th>bedrooms</th>\n",
       "      <th>beds</th>\n",
       "      <th>availability_30</th>\n",
       "      <th>availability_60</th>\n",
       "      <th>availability_90</th>\n",
       "      <th>availability_365</th>\n",
       "      <th>...</th>\n",
       "      <th>year</th>\n",
       "      <th>month</th>\n",
       "      <th>day</th>\n",
       "      <th>first_mo_occ</th>\n",
       "      <th>second_mo_occ</th>\n",
       "      <th>third_mo_occ</th>\n",
       "      <th>month_1_revenue</th>\n",
       "      <th>month_2_revenue</th>\n",
       "      <th>month_3_revenue</th>\n",
       "      <th>total_90_day_revenue</th>\n",
       "    </tr>\n",
       "    <tr>\n",
       "      <th>cluster</th>\n",
       "      <th></th>\n",
       "      <th></th>\n",
       "      <th></th>\n",
       "      <th></th>\n",
       "      <th></th>\n",
       "      <th></th>\n",
       "      <th></th>\n",
       "      <th></th>\n",
       "      <th></th>\n",
       "      <th></th>\n",
       "      <th></th>\n",
       "      <th></th>\n",
       "      <th></th>\n",
       "      <th></th>\n",
       "      <th></th>\n",
       "      <th></th>\n",
       "      <th></th>\n",
       "      <th></th>\n",
       "      <th></th>\n",
       "      <th></th>\n",
       "      <th></th>\n",
       "    </tr>\n",
       "  </thead>\n",
       "  <tbody>\n",
       "    <tr>\n",
       "      <th>0</th>\n",
       "      <td>9.171283e+16</td>\n",
       "      <td>19.421715</td>\n",
       "      <td>-99.168382</td>\n",
       "      <td>1.786313</td>\n",
       "      <td>1.005264</td>\n",
       "      <td>1.100994</td>\n",
       "      <td>18.376292</td>\n",
       "      <td>41.035095</td>\n",
       "      <td>65.349581</td>\n",
       "      <td>248.328914</td>\n",
       "      <td>...</td>\n",
       "      <td>2022.0</td>\n",
       "      <td>6.0</td>\n",
       "      <td>21.513160</td>\n",
       "      <td>11.623708</td>\n",
       "      <td>7.341197</td>\n",
       "      <td>5.685514</td>\n",
       "      <td>7219.272958</td>\n",
       "      <td>4409.241178</td>\n",
       "      <td>3479.587639</td>\n",
       "      <td>15108.101774</td>\n",
       "    </tr>\n",
       "    <tr>\n",
       "      <th>1</th>\n",
       "      <td>7.784146e+16</td>\n",
       "      <td>19.326720</td>\n",
       "      <td>-99.158834</td>\n",
       "      <td>4.639279</td>\n",
       "      <td>2.178357</td>\n",
       "      <td>2.967936</td>\n",
       "      <td>15.348697</td>\n",
       "      <td>35.289579</td>\n",
       "      <td>58.369739</td>\n",
       "      <td>242.446894</td>\n",
       "      <td>...</td>\n",
       "      <td>2022.0</td>\n",
       "      <td>6.0</td>\n",
       "      <td>21.041082</td>\n",
       "      <td>14.651303</td>\n",
       "      <td>10.059118</td>\n",
       "      <td>6.919840</td>\n",
       "      <td>15925.118236</td>\n",
       "      <td>10869.631263</td>\n",
       "      <td>7473.621242</td>\n",
       "      <td>34268.370741</td>\n",
       "    </tr>\n",
       "    <tr>\n",
       "      <th>2</th>\n",
       "      <td>1.176943e+17</td>\n",
       "      <td>19.423050</td>\n",
       "      <td>-99.170025</td>\n",
       "      <td>4.299291</td>\n",
       "      <td>1.982506</td>\n",
       "      <td>2.476123</td>\n",
       "      <td>13.395508</td>\n",
       "      <td>33.024586</td>\n",
       "      <td>55.480142</td>\n",
       "      <td>230.483924</td>\n",
       "      <td>...</td>\n",
       "      <td>2022.0</td>\n",
       "      <td>6.0</td>\n",
       "      <td>21.606619</td>\n",
       "      <td>16.604492</td>\n",
       "      <td>10.370922</td>\n",
       "      <td>7.544444</td>\n",
       "      <td>27905.043499</td>\n",
       "      <td>16728.847281</td>\n",
       "      <td>12291.382979</td>\n",
       "      <td>56925.273759</td>\n",
       "    </tr>\n",
       "    <tr>\n",
       "      <th>3</th>\n",
       "      <td>8.976398e+16</td>\n",
       "      <td>19.400336</td>\n",
       "      <td>-99.158269</td>\n",
       "      <td>11.978261</td>\n",
       "      <td>12.391304</td>\n",
       "      <td>16.391304</td>\n",
       "      <td>22.326087</td>\n",
       "      <td>47.195652</td>\n",
       "      <td>71.891304</td>\n",
       "      <td>304.500000</td>\n",
       "      <td>...</td>\n",
       "      <td>2022.0</td>\n",
       "      <td>6.0</td>\n",
       "      <td>21.434783</td>\n",
       "      <td>7.673913</td>\n",
       "      <td>5.130435</td>\n",
       "      <td>5.304348</td>\n",
       "      <td>104208.934783</td>\n",
       "      <td>73860.152174</td>\n",
       "      <td>72650.413043</td>\n",
       "      <td>250719.500000</td>\n",
       "    </tr>\n",
       "    <tr>\n",
       "      <th>4</th>\n",
       "      <td>1.232781e+17</td>\n",
       "      <td>19.418169</td>\n",
       "      <td>-99.175668</td>\n",
       "      <td>7.009702</td>\n",
       "      <td>2.921691</td>\n",
       "      <td>4.166320</td>\n",
       "      <td>13.599446</td>\n",
       "      <td>33.241857</td>\n",
       "      <td>56.421344</td>\n",
       "      <td>234.148995</td>\n",
       "      <td>...</td>\n",
       "      <td>2022.0</td>\n",
       "      <td>6.0</td>\n",
       "      <td>21.534304</td>\n",
       "      <td>16.400554</td>\n",
       "      <td>10.357588</td>\n",
       "      <td>6.820513</td>\n",
       "      <td>49023.386694</td>\n",
       "      <td>32850.092862</td>\n",
       "      <td>23179.817048</td>\n",
       "      <td>105053.296604</td>\n",
       "    </tr>\n",
       "    <tr>\n",
       "      <th>5</th>\n",
       "      <td>9.949671e+16</td>\n",
       "      <td>19.415365</td>\n",
       "      <td>-99.076487</td>\n",
       "      <td>2.909483</td>\n",
       "      <td>1.339440</td>\n",
       "      <td>1.711207</td>\n",
       "      <td>20.678879</td>\n",
       "      <td>44.827586</td>\n",
       "      <td>70.032328</td>\n",
       "      <td>247.075431</td>\n",
       "      <td>...</td>\n",
       "      <td>2022.0</td>\n",
       "      <td>6.0</td>\n",
       "      <td>21.028017</td>\n",
       "      <td>9.321121</td>\n",
       "      <td>5.851293</td>\n",
       "      <td>4.795259</td>\n",
       "      <td>5868.134698</td>\n",
       "      <td>3871.627155</td>\n",
       "      <td>2454.573276</td>\n",
       "      <td>12194.335129</td>\n",
       "    </tr>\n",
       "    <tr>\n",
       "      <th>6</th>\n",
       "      <td>2.063012e+17</td>\n",
       "      <td>19.380663</td>\n",
       "      <td>-99.170137</td>\n",
       "      <td>11.333333</td>\n",
       "      <td>50.000000</td>\n",
       "      <td>50.000000</td>\n",
       "      <td>30.000000</td>\n",
       "      <td>60.000000</td>\n",
       "      <td>90.000000</td>\n",
       "      <td>365.000000</td>\n",
       "      <td>...</td>\n",
       "      <td>2022.0</td>\n",
       "      <td>6.0</td>\n",
       "      <td>21.666667</td>\n",
       "      <td>0.000000</td>\n",
       "      <td>0.000000</td>\n",
       "      <td>0.000000</td>\n",
       "      <td>0.000000</td>\n",
       "      <td>0.000000</td>\n",
       "      <td>0.000000</td>\n",
       "      <td>0.000000</td>\n",
       "    </tr>\n",
       "    <tr>\n",
       "      <th>7</th>\n",
       "      <td>8.373576e+16</td>\n",
       "      <td>19.384642</td>\n",
       "      <td>-99.165274</td>\n",
       "      <td>13.209125</td>\n",
       "      <td>4.619772</td>\n",
       "      <td>8.258555</td>\n",
       "      <td>17.266160</td>\n",
       "      <td>38.539924</td>\n",
       "      <td>62.794677</td>\n",
       "      <td>258.281369</td>\n",
       "      <td>...</td>\n",
       "      <td>2022.0</td>\n",
       "      <td>6.0</td>\n",
       "      <td>21.433460</td>\n",
       "      <td>12.733840</td>\n",
       "      <td>8.726236</td>\n",
       "      <td>5.745247</td>\n",
       "      <td>108156.809886</td>\n",
       "      <td>83877.292776</td>\n",
       "      <td>72739.627376</td>\n",
       "      <td>264773.730038</td>\n",
       "    </tr>\n",
       "    <tr>\n",
       "      <th>8</th>\n",
       "      <td>8.614955e+16</td>\n",
       "      <td>19.418978</td>\n",
       "      <td>-99.168745</td>\n",
       "      <td>2.475758</td>\n",
       "      <td>1.000206</td>\n",
       "      <td>1.293996</td>\n",
       "      <td>14.246544</td>\n",
       "      <td>35.031360</td>\n",
       "      <td>58.597483</td>\n",
       "      <td>239.103982</td>\n",
       "      <td>...</td>\n",
       "      <td>2022.0</td>\n",
       "      <td>6.0</td>\n",
       "      <td>21.624097</td>\n",
       "      <td>15.753456</td>\n",
       "      <td>9.215185</td>\n",
       "      <td>6.433877</td>\n",
       "      <td>19027.365587</td>\n",
       "      <td>10730.228595</td>\n",
       "      <td>7631.490819</td>\n",
       "      <td>37389.085001</td>\n",
       "    </tr>\n",
       "    <tr>\n",
       "      <th>9</th>\n",
       "      <td>7.671460e+16</td>\n",
       "      <td>19.362006</td>\n",
       "      <td>-99.264172</td>\n",
       "      <td>2.588043</td>\n",
       "      <td>1.271089</td>\n",
       "      <td>1.538903</td>\n",
       "      <td>20.219492</td>\n",
       "      <td>44.019656</td>\n",
       "      <td>69.292383</td>\n",
       "      <td>268.819001</td>\n",
       "      <td>...</td>\n",
       "      <td>2022.0</td>\n",
       "      <td>6.0</td>\n",
       "      <td>21.037674</td>\n",
       "      <td>9.780508</td>\n",
       "      <td>6.199836</td>\n",
       "      <td>4.727273</td>\n",
       "      <td>9514.504505</td>\n",
       "      <td>6034.152334</td>\n",
       "      <td>4640.694513</td>\n",
       "      <td>20189.351351</td>\n",
       "    </tr>\n",
       "    <tr>\n",
       "      <th>10</th>\n",
       "      <td>2.062810e+17</td>\n",
       "      <td>19.369617</td>\n",
       "      <td>-99.188517</td>\n",
       "      <td>6.666667</td>\n",
       "      <td>40.000000</td>\n",
       "      <td>40.000000</td>\n",
       "      <td>30.000000</td>\n",
       "      <td>60.000000</td>\n",
       "      <td>90.000000</td>\n",
       "      <td>364.666667</td>\n",
       "      <td>...</td>\n",
       "      <td>2022.0</td>\n",
       "      <td>6.0</td>\n",
       "      <td>21.666667</td>\n",
       "      <td>0.000000</td>\n",
       "      <td>0.000000</td>\n",
       "      <td>0.000000</td>\n",
       "      <td>0.000000</td>\n",
       "      <td>0.000000</td>\n",
       "      <td>0.000000</td>\n",
       "      <td>0.000000</td>\n",
       "    </tr>\n",
       "    <tr>\n",
       "      <th>11</th>\n",
       "      <td>6.012959e+16</td>\n",
       "      <td>19.329384</td>\n",
       "      <td>-99.160894</td>\n",
       "      <td>1.832682</td>\n",
       "      <td>0.987881</td>\n",
       "      <td>1.166145</td>\n",
       "      <td>18.300235</td>\n",
       "      <td>40.455825</td>\n",
       "      <td>64.663800</td>\n",
       "      <td>252.252932</td>\n",
       "      <td>...</td>\n",
       "      <td>2022.0</td>\n",
       "      <td>6.0</td>\n",
       "      <td>21.042611</td>\n",
       "      <td>11.699765</td>\n",
       "      <td>7.844410</td>\n",
       "      <td>5.792025</td>\n",
       "      <td>6737.527756</td>\n",
       "      <td>4347.307271</td>\n",
       "      <td>3129.041048</td>\n",
       "      <td>14213.876075</td>\n",
       "    </tr>\n",
       "  </tbody>\n",
       "</table>\n",
       "<p>12 rows × 22 columns</p>\n",
       "</div>"
      ],
      "text/plain": [
       "                   id   latitude  longitude  accommodates   bedrooms  \\\n",
       "cluster                                                                \n",
       "0        9.171283e+16  19.421715 -99.168382      1.786313   1.005264   \n",
       "1        7.784146e+16  19.326720 -99.158834      4.639279   2.178357   \n",
       "2        1.176943e+17  19.423050 -99.170025      4.299291   1.982506   \n",
       "3        8.976398e+16  19.400336 -99.158269     11.978261  12.391304   \n",
       "4        1.232781e+17  19.418169 -99.175668      7.009702   2.921691   \n",
       "5        9.949671e+16  19.415365 -99.076487      2.909483   1.339440   \n",
       "6        2.063012e+17  19.380663 -99.170137     11.333333  50.000000   \n",
       "7        8.373576e+16  19.384642 -99.165274     13.209125   4.619772   \n",
       "8        8.614955e+16  19.418978 -99.168745      2.475758   1.000206   \n",
       "9        7.671460e+16  19.362006 -99.264172      2.588043   1.271089   \n",
       "10       2.062810e+17  19.369617 -99.188517      6.666667  40.000000   \n",
       "11       6.012959e+16  19.329384 -99.160894      1.832682   0.987881   \n",
       "\n",
       "              beds  availability_30  availability_60  availability_90  \\\n",
       "cluster                                                                 \n",
       "0         1.100994        18.376292        41.035095        65.349581   \n",
       "1         2.967936        15.348697        35.289579        58.369739   \n",
       "2         2.476123        13.395508        33.024586        55.480142   \n",
       "3        16.391304        22.326087        47.195652        71.891304   \n",
       "4         4.166320        13.599446        33.241857        56.421344   \n",
       "5         1.711207        20.678879        44.827586        70.032328   \n",
       "6        50.000000        30.000000        60.000000        90.000000   \n",
       "7         8.258555        17.266160        38.539924        62.794677   \n",
       "8         1.293996        14.246544        35.031360        58.597483   \n",
       "9         1.538903        20.219492        44.019656        69.292383   \n",
       "10       40.000000        30.000000        60.000000        90.000000   \n",
       "11        1.166145        18.300235        40.455825        64.663800   \n",
       "\n",
       "         availability_365  ...    year  month        day  first_mo_occ  \\\n",
       "cluster                    ...                                           \n",
       "0              248.328914  ...  2022.0    6.0  21.513160     11.623708   \n",
       "1              242.446894  ...  2022.0    6.0  21.041082     14.651303   \n",
       "2              230.483924  ...  2022.0    6.0  21.606619     16.604492   \n",
       "3              304.500000  ...  2022.0    6.0  21.434783      7.673913   \n",
       "4              234.148995  ...  2022.0    6.0  21.534304     16.400554   \n",
       "5              247.075431  ...  2022.0    6.0  21.028017      9.321121   \n",
       "6              365.000000  ...  2022.0    6.0  21.666667      0.000000   \n",
       "7              258.281369  ...  2022.0    6.0  21.433460     12.733840   \n",
       "8              239.103982  ...  2022.0    6.0  21.624097     15.753456   \n",
       "9              268.819001  ...  2022.0    6.0  21.037674      9.780508   \n",
       "10             364.666667  ...  2022.0    6.0  21.666667      0.000000   \n",
       "11             252.252932  ...  2022.0    6.0  21.042611     11.699765   \n",
       "\n",
       "         second_mo_occ  third_mo_occ  month_1_revenue  month_2_revenue  \\\n",
       "cluster                                                                  \n",
       "0             7.341197      5.685514      7219.272958      4409.241178   \n",
       "1            10.059118      6.919840     15925.118236     10869.631263   \n",
       "2            10.370922      7.544444     27905.043499     16728.847281   \n",
       "3             5.130435      5.304348    104208.934783     73860.152174   \n",
       "4            10.357588      6.820513     49023.386694     32850.092862   \n",
       "5             5.851293      4.795259      5868.134698      3871.627155   \n",
       "6             0.000000      0.000000         0.000000         0.000000   \n",
       "7             8.726236      5.745247    108156.809886     83877.292776   \n",
       "8             9.215185      6.433877     19027.365587     10730.228595   \n",
       "9             6.199836      4.727273      9514.504505      6034.152334   \n",
       "10            0.000000      0.000000         0.000000         0.000000   \n",
       "11            7.844410      5.792025      6737.527756      4347.307271   \n",
       "\n",
       "         month_3_revenue  total_90_day_revenue  \n",
       "cluster                                         \n",
       "0            3479.587639          15108.101774  \n",
       "1            7473.621242          34268.370741  \n",
       "2           12291.382979          56925.273759  \n",
       "3           72650.413043         250719.500000  \n",
       "4           23179.817048         105053.296604  \n",
       "5            2454.573276          12194.335129  \n",
       "6               0.000000              0.000000  \n",
       "7           72739.627376         264773.730038  \n",
       "8            7631.490819          37389.085001  \n",
       "9            4640.694513          20189.351351  \n",
       "10              0.000000              0.000000  \n",
       "11           3129.041048          14213.876075  \n",
       "\n",
       "[12 rows x 22 columns]"
      ]
     },
     "execution_count": 58,
     "metadata": {},
     "output_type": "execute_result"
    }
   ],
   "source": [
    "june.groupby('cluster').mean()"
   ]
  },
  {
   "cell_type": "code",
   "execution_count": 82,
   "metadata": {},
   "outputs": [
    {
     "data": {
      "text/plain": [
       "<AxesSubplot:xlabel='cluster', ylabel='total_90_day_revenue'>"
      ]
     },
     "execution_count": 82,
     "metadata": {},
     "output_type": "execute_result"
    },
    {
     "data": {
      "image/png": "[encoded data removed]",
      "text/plain": [
       "<Figure size 432x288 with 1 Axes>"
      ]
     },
     "metadata": {
      "needs_background": "light"
     },
     "output_type": "display_data"
    }
   ],
   "source": [
    "import seaborn as sns\n",
    "sns.scatterplot(data=june, x='cluster', y='total_90_day_revenue')"
   ]
  },
  {
   "cell_type": "code",
   "execution_count": null,
   "metadata": {},
   "outputs": [],
   "source": []
  }
 ],
 "metadata": {
  "kernelspec": {
   "display_name": "Python 3.9.12 ('base')",
   "language": "python",
   "name": "python3"
  },
  "language_info": {
   "codemirror_mode": {
    "name": "ipython",
    "version": 3
   },
   "file_extension": ".py",
   "mimetype": "text/x-python",
   "name": "python",
   "nbconvert_exporter": "python",
   "pygments_lexer": "ipython3",
   "version": "3.9.12"
  },
  "orig_nbformat": 4,
  "vscode": {
   "interpreter": {
    "hash": "f7a0f9bb49171c226bccce8a0987518af550515ba22b4949d7abe766c3680a51"
   }
  }
 },
 "nbformat": 4,
 "nbformat_minor": 2
}
