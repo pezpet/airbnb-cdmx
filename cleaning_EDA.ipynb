{
 "cells": [
  {
   "cell_type": "markdown",
   "metadata": {},
   "source": [
    "# Data Import, Cleaning, and EDA for AirBnB listings in Mexico City\n",
    "from insideairbnb.com"
   ]
  },
  {
   "cell_type": "markdown",
   "metadata": {},
   "source": [
    "## Import Libraries"
   ]
  },
  {
   "cell_type": "code",
   "execution_count": 1,
   "metadata": {},
   "outputs": [],
   "source": [
    "import pandas as pd\n",
    "import numpy as np"
   ]
  },
  {
   "cell_type": "markdown",
   "metadata": {},
   "source": [
    "## Import Data\n",
    "Free Data is available quarterly so I have imported listings one year back starting in June 2022"
   ]
  },
  {
   "cell_type": "code",
   "execution_count": 2,
   "metadata": {},
   "outputs": [
    {
     "data": {
      "text/plain": [
       "array(['2022-06-21', '2022-06-22'], dtype=object)"
      ]
     },
     "execution_count": 2,
     "metadata": {},
     "output_type": "execute_result"
    }
   ],
   "source": [
    "june = pd.read_csv('./data/listings_june.csv')\n",
    "june['last_scraped'].unique()"
   ]
  },
  {
   "cell_type": "code",
   "execution_count": 3,
   "metadata": {},
   "outputs": [
    {
     "data": {
      "text/plain": [
       "array(['2022-03-27', '2022-03-26'], dtype=object)"
      ]
     },
     "execution_count": 3,
     "metadata": {},
     "output_type": "execute_result"
    }
   ],
   "source": [
    "march = pd.read_csv('./data/listings_march.csv')\n",
    "march['last_scraped'].unique()"
   ]
  },
  {
   "cell_type": "code",
   "execution_count": 4,
   "metadata": {},
   "outputs": [
    {
     "data": {
      "text/plain": [
       "array(['2021-12-26', '2021-12-25', '2021-12-29'], dtype=object)"
      ]
     },
     "execution_count": 4,
     "metadata": {},
     "output_type": "execute_result"
    }
   ],
   "source": [
    "dec = pd.read_csv('./data/listings_dec.csv')\n",
    "dec['last_scraped'].unique()"
   ]
  },
  {
   "cell_type": "code",
   "execution_count": 5,
   "metadata": {},
   "outputs": [
    {
     "data": {
      "text/plain": [
       "array(['2021-09-30', '2021-09-29', '2021-09-28', '2021-10-06'],\n",
       "      dtype=object)"
      ]
     },
     "execution_count": 5,
     "metadata": {},
     "output_type": "execute_result"
    }
   ],
   "source": [
    "sep = pd.read_csv('./data/listings_sept.csv')\n",
    "sep['last_scraped'].unique()"
   ]
  },
  {
   "cell_type": "markdown",
   "metadata": {},
   "source": [
    "## Drop features with high proportion of missing values"
   ]
  },
  {
   "cell_type": "code",
   "execution_count": 6,
   "metadata": {},
   "outputs": [
    {
     "name": "stdout",
     "output_type": "stream",
     "text": [
      "Removed 4 features with > 95.0% missing values\n"
     ]
    }
   ],
   "source": [
    "# Determine NaN rates and drop features with > 80% NaNs\n",
    "thresh = 0.95\n",
    "nan_rates = june.isna().sum(axis=0).sort_values(ascending=False) / float(\n",
    "    len(june)\n",
    ")\n",
    "june.drop(nan_rates[nan_rates > thresh].index, axis=1, inplace=True)\n",
    "print(\n",
    "    f\"Removed {len(nan_rates[nan_rates > thresh])} features with > {thresh*100}% missing values\"\n",
    ")\n",
    "\n",
    "# Also drop rows with all NaNs\n",
    "june.dropna(how=\"all\", inplace=True)"
   ]
  },
  {
   "cell_type": "code",
   "execution_count": 7,
   "metadata": {},
   "outputs": [
    {
     "name": "stdout",
     "output_type": "stream",
     "text": [
      "<class 'pandas.core.frame.DataFrame'>\n",
      "RangeIndex: 21669 entries, 0 to 21668\n",
      "Data columns (total 70 columns):\n",
      " #   Column                                        Non-Null Count  Dtype  \n",
      "---  ------                                        --------------  -----  \n",
      " 0   id                                            21669 non-null  int64  \n",
      " 1   listing_url                                   21669 non-null  object \n",
      " 2   scrape_id                                     21669 non-null  int64  \n",
      " 3   last_scraped                                  21669 non-null  object \n",
      " 4   name                                          21666 non-null  object \n",
      " 5   description                                   20624 non-null  object \n",
      " 6   neighborhood_overview                         13922 non-null  object \n",
      " 7   picture_url                                   21669 non-null  object \n",
      " 8   host_id                                       21669 non-null  int64  \n",
      " 9   host_url                                      21669 non-null  object \n",
      " 10  host_name                                     21669 non-null  object \n",
      " 11  host_since                                    21669 non-null  object \n",
      " 12  host_location                                 21623 non-null  object \n",
      " 13  host_about                                    12124 non-null  object \n",
      " 14  host_response_time                            18736 non-null  object \n",
      " 15  host_response_rate                            18736 non-null  object \n",
      " 16  host_acceptance_rate                          19102 non-null  object \n",
      " 17  host_is_superhost                             21669 non-null  object \n",
      " 18  host_thumbnail_url                            21669 non-null  object \n",
      " 19  host_picture_url                              21669 non-null  object \n",
      " 20  host_neighbourhood                            10711 non-null  object \n",
      " 21  host_listings_count                           21669 non-null  int64  \n",
      " 22  host_total_listings_count                     21669 non-null  int64  \n",
      " 23  host_verifications                            21669 non-null  object \n",
      " 24  host_has_profile_pic                          21669 non-null  object \n",
      " 25  host_identity_verified                        21669 non-null  object \n",
      " 26  neighbourhood                                 13922 non-null  object \n",
      " 27  neighbourhood_cleansed                        21669 non-null  object \n",
      " 28  latitude                                      21669 non-null  float64\n",
      " 29  longitude                                     21669 non-null  float64\n",
      " 30  property_type                                 21669 non-null  object \n",
      " 31  room_type                                     21669 non-null  object \n",
      " 32  accommodates                                  21669 non-null  int64  \n",
      " 33  bathrooms_text                                21617 non-null  object \n",
      " 34  bedrooms                                      21000 non-null  float64\n",
      " 35  beds                                          21272 non-null  float64\n",
      " 36  amenities                                     21669 non-null  object \n",
      " 37  price                                         21669 non-null  object \n",
      " 38  minimum_nights                                21669 non-null  int64  \n",
      " 39  maximum_nights                                21669 non-null  int64  \n",
      " 40  minimum_minimum_nights                        21668 non-null  float64\n",
      " 41  maximum_minimum_nights                        21668 non-null  float64\n",
      " 42  minimum_maximum_nights                        21668 non-null  float64\n",
      " 43  maximum_maximum_nights                        21668 non-null  float64\n",
      " 44  minimum_nights_avg_ntm                        21668 non-null  float64\n",
      " 45  maximum_nights_avg_ntm                        21668 non-null  float64\n",
      " 46  has_availability                              21669 non-null  object \n",
      " 47  availability_30                               21669 non-null  int64  \n",
      " 48  availability_60                               21669 non-null  int64  \n",
      " 49  availability_90                               21669 non-null  int64  \n",
      " 50  availability_365                              21669 non-null  int64  \n",
      " 51  calendar_last_scraped                         21669 non-null  object \n",
      " 52  number_of_reviews                             21669 non-null  int64  \n",
      " 53  number_of_reviews_ltm                         21669 non-null  int64  \n",
      " 54  number_of_reviews_l30d                        21669 non-null  int64  \n",
      " 55  first_review                                  17679 non-null  object \n",
      " 56  last_review                                   17679 non-null  object \n",
      " 57  review_scores_rating                          17679 non-null  float64\n",
      " 58  review_scores_accuracy                        17579 non-null  float64\n",
      " 59  review_scores_cleanliness                     17579 non-null  float64\n",
      " 60  review_scores_checkin                         17578 non-null  float64\n",
      " 61  review_scores_communication                   17579 non-null  float64\n",
      " 62  review_scores_location                        17577 non-null  float64\n",
      " 63  review_scores_value                           17578 non-null  float64\n",
      " 64  instant_bookable                              21669 non-null  object \n",
      " 65  calculated_host_listings_count                21669 non-null  int64  \n",
      " 66  calculated_host_listings_count_entire_homes   21669 non-null  int64  \n",
      " 67  calculated_host_listings_count_private_rooms  21669 non-null  int64  \n",
      " 68  calculated_host_listings_count_shared_rooms   21669 non-null  int64  \n",
      " 69  reviews_per_month                             17679 non-null  float64\n",
      "dtypes: float64(18), int64(19), object(33)\n",
      "memory usage: 11.6+ MB\n"
     ]
    }
   ],
   "source": [
    "june.info()"
   ]
  },
  {
   "cell_type": "code",
   "execution_count": 8,
   "metadata": {},
   "outputs": [
    {
     "data": {
      "text/plain": [
       "array([nan, 'a few days or more', 'within an hour', 'within a few hours',\n",
       "       'within a day'], dtype=object)"
      ]
     },
     "execution_count": 8,
     "metadata": {},
     "output_type": "execute_result"
    }
   ],
   "source": [
    "june['host_response_time'].unique()"
   ]
  },
  {
   "cell_type": "code",
   "execution_count": 9,
   "metadata": {},
   "outputs": [],
   "source": [
    "# Must revisit this drop since there is useful info here that I'm dropping for simplicity\n",
    "june.drop(columns=['neighbourhood', 'property_type', 'amenities', 'calendar_last_scraped'], inplace=True)"
   ]
  },
  {
   "cell_type": "code",
   "execution_count": 10,
   "metadata": {},
   "outputs": [],
   "source": [
    "june = june.astype(\n",
    "    {\n",
    "        \"last_scraped\": \"datetime64\",\n",
    "        \"host_since\": \"datetime64\",\n",
    "        'first_review': 'datetime64',\n",
    "        'last_review': 'datetime64',\n",
    "    }\n",
    ")"
   ]
  },
  {
   "cell_type": "code",
   "execution_count": 11,
   "metadata": {},
   "outputs": [
    {
     "data": {
      "text/plain": [
       "<bound method Series.unique of 0        0.0\n",
       "1        0.0\n",
       "2        0.0\n",
       "3        1.0\n",
       "4        1.0\n",
       "        ... \n",
       "21664    1.0\n",
       "21665    1.0\n",
       "21666    0.5\n",
       "21667    1.0\n",
       "21668    1.0\n",
       "Name: host_response_rate, Length: 21669, dtype: float64>"
      ]
     },
     "execution_count": 11,
     "metadata": {},
     "output_type": "execute_result"
    }
   ],
   "source": [
    "june[\"host_response_rate\"] = (\n",
    "    june[\"host_response_rate\"].str.replace(\"%\", \"\").fillna(0).astype(\"float\") / 100.0\n",
    ")\n",
    "june[\"host_response_rate\"].unique"
   ]
  },
  {
   "cell_type": "code",
   "execution_count": 12,
   "metadata": {},
   "outputs": [
    {
     "data": {
      "text/plain": [
       "<bound method Series.unique of 0        0.00\n",
       "1        0.00\n",
       "2        0.00\n",
       "3        0.66\n",
       "4        1.00\n",
       "         ... \n",
       "21664    1.00\n",
       "21665    1.00\n",
       "21666    0.00\n",
       "21667    1.00\n",
       "21668    1.00\n",
       "Name: host_acceptance_rate, Length: 21669, dtype: float64>"
      ]
     },
     "execution_count": 12,
     "metadata": {},
     "output_type": "execute_result"
    }
   ],
   "source": [
    "june[\"host_acceptance_rate\"] = (\n",
    "    june[\"host_acceptance_rate\"].str.replace(\"%\", \"\").fillna(0).astype(\"float\") / 100.0\n",
    ")\n",
    "june[\"host_acceptance_rate\"].unique"
   ]
  },
  {
   "cell_type": "code",
   "execution_count": 13,
   "metadata": {},
   "outputs": [
    {
     "data": {
      "text/plain": [
       "<bound method Series.unique of 0        False\n",
       "1        False\n",
       "2        False\n",
       "3        False\n",
       "4         True\n",
       "         ...  \n",
       "21664    False\n",
       "21665    False\n",
       "21666    False\n",
       "21667    False\n",
       "21668     True\n",
       "Name: host_is_superhost, Length: 21669, dtype: bool>"
      ]
     },
     "execution_count": 13,
     "metadata": {},
     "output_type": "execute_result"
    }
   ],
   "source": [
    "june[\"host_is_superhost\"] = (\n",
    "    june[\"host_is_superhost\"].map({\"f\": 0, \"t\": 1}).astype(\"bool\")\n",
    ")\n",
    "\n",
    "june[\"host_is_superhost\"].unique"
   ]
  },
  {
   "cell_type": "code",
   "execution_count": 14,
   "metadata": {},
   "outputs": [
    {
     "data": {
      "text/plain": [
       "array([ True, False])"
      ]
     },
     "execution_count": 14,
     "metadata": {},
     "output_type": "execute_result"
    }
   ],
   "source": [
    "june[\"host_identity_verified\"] = (\n",
    "    june[\"host_identity_verified\"].map({\"f\": 0, \"t\": 1}).astype(\"bool\")\n",
    ")\n",
    "\n",
    "june[\"host_identity_verified\"].unique()"
   ]
  },
  {
   "cell_type": "code",
   "execution_count": 15,
   "metadata": {},
   "outputs": [],
   "source": [
    "categoricals = ['room_type', 'neighbourhood_cleansed', 'host_response_time']"
   ]
  },
  {
   "cell_type": "code",
   "execution_count": 16,
   "metadata": {},
   "outputs": [],
   "source": [
    "june['bathrooms_text'] = june[\"bathrooms_text\"].map(\n",
    "    {\n",
    "        \"3 baths\": \"3 a\",\n",
    "        \"1 bath\": \"1 a\",\n",
    "        \"1 private bath\": \"1 a\",\n",
    "        \"5.5 baths\": \"5.5 a\",\n",
    "        \"1 shared bath\": \"1 b\",\n",
    "        \"1.5 baths\": \"1.5 a\",\n",
    "        \"1.5 shared baths\": \"1.5 b\",\n",
    "        \"2 baths\": \"2 a\",\n",
    "        \"5 baths\": \"5 a\",\n",
    "        \"4.5 baths\": \"4.5 a\",\n",
    "        \"2.5 baths\": \"2.5 a\",\n",
    "        \"3.5 baths\": \"3.5 a\",\n",
    "        \"2 shared baths\": \"2 b\",\n",
    "        \"5.5 shared baths\": \"5.5 b\",\n",
    "        \"6 baths\": \"6 b\",\n",
    "        \"3 shared baths\": \"3 b\",\n",
    "        \"8 shared baths\": \"8 b\",\n",
    "        \"2.5 shared baths\": \"2.5 b\",\n",
    "        \"Half-bath\": \"0.5 a\",\n",
    "        \"3.5 shared baths\": \"3.5 b\",\n",
    "        \"4 baths\": \"4 a\",\n",
    "        \"10 baths\": \"10 a\",\n",
    "        \"5 shared baths\": \"5 b\",\n",
    "        \"16 baths\": \"16 a\",\n",
    "        \"4 shared baths\": \"4 a\",\n",
    "        \"0 baths\": \"0 a\",\n",
    "        \"7 baths\": \"7 a\",\n",
    "        \"20 baths\": \"20 a\",\n",
    "        \"4.5 shared baths\": \"4.5 b\",\n",
    "        \"0 shared baths\": \"0 b\",\n",
    "        \"50 baths\": \"50 a\",\n",
    "        \"10 shared baths\": \"10 b\",\n",
    "        \"Shared half-bath\": \"0.5 b\",\n",
    "        \"6.5 shared baths\": \"6.5 b\",\n",
    "        \"8.5 baths\": \"8.5 a\",\n",
    "        \"7.5 baths\": \"7.5 a\",\n",
    "        \"9 baths\": \"9 a\",\n",
    "        \"11.5 baths\": \"11.5 a\",\n",
    "        \"8 baths\": \"8 a\",\n",
    "        \"Private half-bath\": \"0.5 a\",\n",
    "        \"14 baths\": \"14 a\",\n",
    "        \"11 baths\": \"11 a\",\n",
    "        \"6.5 baths\": \"6.5 a\",\n",
    "        \"6 shared baths\": \"6 b\",\n",
    "        \"8.5 shared baths\": \"8.5 b\",\n",
    "        \"13 baths\": \"13 a\",\n",
    "        \"15 shared baths\": \"15 b\",\n",
    "        \"17 baths\": \"17 a\",\n",
    "        \"12 shared baths\": \"12 b\",\n",
    "        \"7.5 shared baths\": \"7.5 b\",\n",
    "        \"7 shared baths\": \"7 b\",\n",
    "        \"9.5 baths\": \"9.5 a\",\n",
    "        \"30 baths\": \"30 a\",\n",
    "        \"26 baths\": \"26 a\",\n",
    "    }\n",
    ")"
   ]
  },
  {
   "cell_type": "code",
   "execution_count": 17,
   "metadata": {},
   "outputs": [],
   "source": [
    "june[['bathrooms_count', 'bathrooms_type']] = june['bathrooms_text'].str.split(expand=True)"
   ]
  },
  {
   "cell_type": "code",
   "execution_count": 18,
   "metadata": {},
   "outputs": [],
   "source": [
    "june['price'] = june['price'].str.replace('[\\$,]', '', regex=True).astype('float')"
   ]
  },
  {
   "cell_type": "code",
   "execution_count": 19,
   "metadata": {},
   "outputs": [
    {
     "data": {
      "text/plain": [
       "array([ True, False])"
      ]
     },
     "execution_count": 19,
     "metadata": {},
     "output_type": "execute_result"
    }
   ],
   "source": [
    "june[\"instant_bookable\"] = (\n",
    "    june[\"instant_bookable\"].map({\"f\": 0, \"t\": 1}).astype(\"bool\")\n",
    ")\n",
    "\n",
    "june[\"instant_bookable\"].unique()"
   ]
  },
  {
   "cell_type": "code",
   "execution_count": 20,
   "metadata": {},
   "outputs": [
    {
     "data": {
      "text/plain": [
       "array([ True, False])"
      ]
     },
     "execution_count": 20,
     "metadata": {},
     "output_type": "execute_result"
    }
   ],
   "source": [
    "june[\"has_availability\"] = (\n",
    "    june[\"has_availability\"].map({\"f\": 0, \"t\": 1}).astype(\"bool\")\n",
    ")\n",
    "\n",
    "june[\"has_availability\"].unique()"
   ]
  },
  {
   "cell_type": "code",
   "execution_count": 21,
   "metadata": {},
   "outputs": [],
   "source": [
    "june = pd.get_dummies(june, columns=categoricals)"
   ]
  },
  {
   "cell_type": "code",
   "execution_count": 22,
   "metadata": {},
   "outputs": [
    {
     "data": {
      "text/plain": [
       "room_type_Private room                       -0.052438\n",
       "neighbourhood_cleansed_Benito Juárez         -0.020908\n",
       "longitude                                    -0.020074\n",
       "neighbourhood_cleansed_Coyoacán              -0.017197\n",
       "neighbourhood_cleansed_Venustiano Carranza   -0.014896\n",
       "Name: price, dtype: float64"
      ]
     },
     "execution_count": 22,
     "metadata": {},
     "output_type": "execute_result"
    }
   ],
   "source": [
    "june.corr()['price'].sort_values().head()"
   ]
  },
  {
   "cell_type": "code",
   "execution_count": 25,
   "metadata": {},
   "outputs": [
    {
     "data": {
      "text/plain": [
       "price                                    1.000000\n",
       "accommodates                             0.103180\n",
       "bedrooms                                 0.080340\n",
       "beds                                     0.076775\n",
       "room_type_Entire home/apt                0.053347\n",
       "neighbourhood_cleansed_Miguel Hidalgo    0.039532\n",
       "Name: price, dtype: float64"
      ]
     },
     "execution_count": 25,
     "metadata": {},
     "output_type": "execute_result"
    }
   ],
   "source": [
    "june.corr()['price'].sort_values(ascending=False).head(6)"
   ]
  },
  {
   "cell_type": "code",
   "execution_count": 26,
   "metadata": {},
   "outputs": [
    {
     "name": "stdout",
     "output_type": "stream",
     "text": [
      "<class 'pandas.core.frame.DataFrame'>\n",
      "RangeIndex: 21669 entries, 0 to 21668\n",
      "Data columns (total 89 columns):\n",
      " #   Column                                         Non-Null Count  Dtype         \n",
      "---  ------                                         --------------  -----         \n",
      " 0   id                                             21669 non-null  int64         \n",
      " 1   listing_url                                    21669 non-null  object        \n",
      " 2   scrape_id                                      21669 non-null  int64         \n",
      " 3   last_scraped                                   21669 non-null  datetime64[ns]\n",
      " 4   name                                           21666 non-null  object        \n",
      " 5   description                                    20624 non-null  object        \n",
      " 6   neighborhood_overview                          13922 non-null  object        \n",
      " 7   picture_url                                    21669 non-null  object        \n",
      " 8   host_id                                        21669 non-null  int64         \n",
      " 9   host_url                                       21669 non-null  object        \n",
      " 10  host_name                                      21669 non-null  object        \n",
      " 11  host_since                                     21669 non-null  datetime64[ns]\n",
      " 12  host_location                                  21623 non-null  object        \n",
      " 13  host_about                                     12124 non-null  object        \n",
      " 14  host_response_rate                             21669 non-null  float64       \n",
      " 15  host_acceptance_rate                           21669 non-null  float64       \n",
      " 16  host_is_superhost                              21669 non-null  bool          \n",
      " 17  host_thumbnail_url                             21669 non-null  object        \n",
      " 18  host_picture_url                               21669 non-null  object        \n",
      " 19  host_neighbourhood                             10711 non-null  object        \n",
      " 20  host_listings_count                            21669 non-null  int64         \n",
      " 21  host_total_listings_count                      21669 non-null  int64         \n",
      " 22  host_verifications                             21669 non-null  object        \n",
      " 23  host_has_profile_pic                           21669 non-null  object        \n",
      " 24  host_identity_verified                         21669 non-null  bool          \n",
      " 25  latitude                                       21669 non-null  float64       \n",
      " 26  longitude                                      21669 non-null  float64       \n",
      " 27  accommodates                                   21669 non-null  int64         \n",
      " 28  bathrooms_text                                 21617 non-null  object        \n",
      " 29  bedrooms                                       21000 non-null  float64       \n",
      " 30  beds                                           21272 non-null  float64       \n",
      " 31  price                                          21669 non-null  float64       \n",
      " 32  minimum_nights                                 21669 non-null  int64         \n",
      " 33  maximum_nights                                 21669 non-null  int64         \n",
      " 34  minimum_minimum_nights                         21668 non-null  float64       \n",
      " 35  maximum_minimum_nights                         21668 non-null  float64       \n",
      " 36  minimum_maximum_nights                         21668 non-null  float64       \n",
      " 37  maximum_maximum_nights                         21668 non-null  float64       \n",
      " 38  minimum_nights_avg_ntm                         21668 non-null  float64       \n",
      " 39  maximum_nights_avg_ntm                         21668 non-null  float64       \n",
      " 40  has_availability                               21669 non-null  bool          \n",
      " 41  availability_30                                21669 non-null  int64         \n",
      " 42  availability_60                                21669 non-null  int64         \n",
      " 43  availability_90                                21669 non-null  int64         \n",
      " 44  availability_365                               21669 non-null  int64         \n",
      " 45  number_of_reviews                              21669 non-null  int64         \n",
      " 46  number_of_reviews_ltm                          21669 non-null  int64         \n",
      " 47  number_of_reviews_l30d                         21669 non-null  int64         \n",
      " 48  first_review                                   17679 non-null  datetime64[ns]\n",
      " 49  last_review                                    17679 non-null  datetime64[ns]\n",
      " 50  review_scores_rating                           17679 non-null  float64       \n",
      " 51  review_scores_accuracy                         17579 non-null  float64       \n",
      " 52  review_scores_cleanliness                      17579 non-null  float64       \n",
      " 53  review_scores_checkin                          17578 non-null  float64       \n",
      " 54  review_scores_communication                    17579 non-null  float64       \n",
      " 55  review_scores_location                         17577 non-null  float64       \n",
      " 56  review_scores_value                            17578 non-null  float64       \n",
      " 57  instant_bookable                               21669 non-null  bool          \n",
      " 58  calculated_host_listings_count                 21669 non-null  int64         \n",
      " 59  calculated_host_listings_count_entire_homes    21669 non-null  int64         \n",
      " 60  calculated_host_listings_count_private_rooms   21669 non-null  int64         \n",
      " 61  calculated_host_listings_count_shared_rooms    21669 non-null  int64         \n",
      " 62  reviews_per_month                              17679 non-null  float64       \n",
      " 63  bathrooms_count                                21617 non-null  object        \n",
      " 64  bathrooms_type                                 21617 non-null  object        \n",
      " 65  room_type_Entire home/apt                      21669 non-null  uint8         \n",
      " 66  room_type_Hotel room                           21669 non-null  uint8         \n",
      " 67  room_type_Private room                         21669 non-null  uint8         \n",
      " 68  room_type_Shared room                          21669 non-null  uint8         \n",
      " 69  neighbourhood_cleansed_Azcapotzalco            21669 non-null  uint8         \n",
      " 70  neighbourhood_cleansed_Benito Juárez           21669 non-null  uint8         \n",
      " 71  neighbourhood_cleansed_Coyoacán                21669 non-null  uint8         \n",
      " 72  neighbourhood_cleansed_Cuajimalpa de Morelos   21669 non-null  uint8         \n",
      " 73  neighbourhood_cleansed_Cuauhtémoc              21669 non-null  uint8         \n",
      " 74  neighbourhood_cleansed_Gustavo A. Madero       21669 non-null  uint8         \n",
      " 75  neighbourhood_cleansed_Iztacalco               21669 non-null  uint8         \n",
      " 76  neighbourhood_cleansed_Iztapalapa              21669 non-null  uint8         \n",
      " 77  neighbourhood_cleansed_La Magdalena Contreras  21669 non-null  uint8         \n",
      " 78  neighbourhood_cleansed_Miguel Hidalgo          21669 non-null  uint8         \n",
      " 79  neighbourhood_cleansed_Milpa Alta              21669 non-null  uint8         \n",
      " 80  neighbourhood_cleansed_Tlalpan                 21669 non-null  uint8         \n",
      " 81  neighbourhood_cleansed_Tláhuac                 21669 non-null  uint8         \n",
      " 82  neighbourhood_cleansed_Venustiano Carranza     21669 non-null  uint8         \n",
      " 83  neighbourhood_cleansed_Xochimilco              21669 non-null  uint8         \n",
      " 84  neighbourhood_cleansed_Álvaro Obregón          21669 non-null  uint8         \n",
      " 85  host_response_time_a few days or more          21669 non-null  uint8         \n",
      " 86  host_response_time_within a day                21669 non-null  uint8         \n",
      " 87  host_response_time_within a few hours          21669 non-null  uint8         \n",
      " 88  host_response_time_within an hour              21669 non-null  uint8         \n",
      "dtypes: bool(4), datetime64[ns](4), float64(21), int64(19), object(17), uint8(24)\n",
      "memory usage: 10.7+ MB\n"
     ]
    }
   ],
   "source": [
    "june.info()"
   ]
  },
  {
   "cell_type": "code",
   "execution_count": null,
   "metadata": {},
   "outputs": [],
   "source": []
  }
 ],
 "metadata": {
  "kernelspec": {
   "display_name": "Python 3.9.12 ('base')",
   "language": "python",
   "name": "python3"
  },
  "language_info": {
   "codemirror_mode": {
    "name": "ipython",
    "version": 3
   },
   "file_extension": ".py",
   "mimetype": "text/x-python",
   "name": "python",
   "nbconvert_exporter": "python",
   "pygments_lexer": "ipython3",
   "version": "3.9.12"
  },
  "orig_nbformat": 4,
  "vscode": {
   "interpreter": {
    "hash": "f7a0f9bb49171c226bccce8a0987518af550515ba22b4949d7abe766c3680a51"
   }
  }
 },
 "nbformat": 4,
 "nbformat_minor": 2
}
