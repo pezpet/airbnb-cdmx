{
 "cells": [
  {
   "cell_type": "markdown",
   "metadata": {},
   "source": [
    "# Data Import, Cleaning, and EDA for AirBnB listings in Mexico City\n",
    "from insideairbnb.com"
   ]
  },
  {
   "cell_type": "markdown",
   "metadata": {},
   "source": [
    "## Import Libraries"
   ]
  },
  {
   "cell_type": "code",
   "execution_count": 33,
   "metadata": {},
   "outputs": [],
   "source": [
    "import pandas as pd\n",
    "import numpy as np\n",
    "import seaborn as sns"
   ]
  },
  {
   "cell_type": "markdown",
   "metadata": {},
   "source": [
    "## Import Data\n",
    "Free Data is available quarterly so I have imported listings one year back starting in June 2022"
   ]
  },
  {
   "cell_type": "code",
   "execution_count": 91,
   "metadata": {},
   "outputs": [
    {
     "data": {
      "text/plain": [
       "array(['2022-06-21', '2022-06-22'], dtype=object)"
      ]
     },
     "execution_count": 91,
     "metadata": {},
     "output_type": "execute_result"
    }
   ],
   "source": [
    "june = pd.read_csv(\"./data/listings_june.csv\")\n",
    "june[\"last_scraped\"].unique()"
   ]
  },
  {
   "cell_type": "code",
   "execution_count": 35,
   "metadata": {},
   "outputs": [
    {
     "data": {
      "text/plain": [
       "array(['2022-03-27', '2022-03-26'], dtype=object)"
      ]
     },
     "execution_count": 35,
     "metadata": {},
     "output_type": "execute_result"
    }
   ],
   "source": [
    "march = pd.read_csv(\"./data/listings_march.csv\")\n",
    "march[\"last_scraped\"].unique()"
   ]
  },
  {
   "cell_type": "code",
   "execution_count": 36,
   "metadata": {},
   "outputs": [
    {
     "data": {
      "text/plain": [
       "array(['2021-12-26', '2021-12-25', '2021-12-29'], dtype=object)"
      ]
     },
     "execution_count": 36,
     "metadata": {},
     "output_type": "execute_result"
    }
   ],
   "source": [
    "dec = pd.read_csv(\"./data/listings_dec.csv\")\n",
    "dec[\"last_scraped\"].unique()"
   ]
  },
  {
   "cell_type": "code",
   "execution_count": 37,
   "metadata": {},
   "outputs": [
    {
     "data": {
      "text/plain": [
       "array(['2021-09-30', '2021-09-29', '2021-09-28', '2021-10-06'],\n",
       "      dtype=object)"
      ]
     },
     "execution_count": 37,
     "metadata": {},
     "output_type": "execute_result"
    }
   ],
   "source": [
    "sep = pd.read_csv(\"./data/listings_sept.csv\")\n",
    "sep[\"last_scraped\"].unique()"
   ]
  },
  {
   "cell_type": "markdown",
   "metadata": {},
   "source": [
    "## Drop features with high proportion of missing values"
   ]
  },
  {
   "cell_type": "code",
   "execution_count": 38,
   "metadata": {},
   "outputs": [
    {
     "name": "stdout",
     "output_type": "stream",
     "text": [
      "Removed 4 features with > 95.0% missing values\n"
     ]
    }
   ],
   "source": [
    "# Determine NaN rates and drop features with > 80% NaNs\n",
    "thresh = 0.95\n",
    "nan_rates = june.isna().sum(axis=0).sort_values(ascending=False) / float(len(june))\n",
    "june.drop(nan_rates[nan_rates > thresh].index, axis=1, inplace=True)\n",
    "print(\n",
    "    f\"Removed {len(nan_rates[nan_rates > thresh])} features with > {thresh*100}% missing values\"\n",
    ")\n",
    "\n",
    "# Also drop rows with all NaNs\n",
    "june.dropna(how=\"all\", inplace=True)"
   ]
  },
  {
   "cell_type": "code",
   "execution_count": 39,
   "metadata": {},
   "outputs": [
    {
     "data": {
      "text/plain": [
       "Index(['id', 'listing_url', 'scrape_id', 'last_scraped', 'name', 'description',\n",
       "       'neighborhood_overview', 'picture_url', 'host_id', 'host_url',\n",
       "       'host_name', 'host_since', 'host_location', 'host_about',\n",
       "       'host_response_time', 'host_response_rate', 'host_acceptance_rate',\n",
       "       'host_is_superhost', 'host_thumbnail_url', 'host_picture_url',\n",
       "       'host_neighbourhood', 'host_listings_count',\n",
       "       'host_total_listings_count', 'host_verifications',\n",
       "       'host_has_profile_pic', 'host_identity_verified', 'neighbourhood',\n",
       "       'neighbourhood_cleansed', 'latitude', 'longitude', 'property_type',\n",
       "       'room_type', 'accommodates', 'bathrooms_text', 'bedrooms', 'beds',\n",
       "       'amenities', 'price', 'minimum_nights', 'maximum_nights',\n",
       "       'minimum_minimum_nights', 'maximum_minimum_nights',\n",
       "       'minimum_maximum_nights', 'maximum_maximum_nights',\n",
       "       'minimum_nights_avg_ntm', 'maximum_nights_avg_ntm', 'has_availability',\n",
       "       'availability_30', 'availability_60', 'availability_90',\n",
       "       'availability_365', 'calendar_last_scraped', 'number_of_reviews',\n",
       "       'number_of_reviews_ltm', 'number_of_reviews_l30d', 'first_review',\n",
       "       'last_review', 'review_scores_rating', 'review_scores_accuracy',\n",
       "       'review_scores_cleanliness', 'review_scores_checkin',\n",
       "       'review_scores_communication', 'review_scores_location',\n",
       "       'review_scores_value', 'instant_bookable',\n",
       "       'calculated_host_listings_count',\n",
       "       'calculated_host_listings_count_entire_homes',\n",
       "       'calculated_host_listings_count_private_rooms',\n",
       "       'calculated_host_listings_count_shared_rooms', 'reviews_per_month'],\n",
       "      dtype='object')"
      ]
     },
     "execution_count": 39,
     "metadata": {},
     "output_type": "execute_result"
    }
   ],
   "source": [
    "june.columns"
   ]
  },
  {
   "cell_type": "code",
   "execution_count": 40,
   "metadata": {},
   "outputs": [
    {
     "data": {
      "text/plain": [
       "array([nan, 'a few days or more', 'within an hour', 'within a few hours',\n",
       "       'within a day'], dtype=object)"
      ]
     },
     "execution_count": 40,
     "metadata": {},
     "output_type": "execute_result"
    }
   ],
   "source": [
    "june['host_response_time'].unique()"
   ]
  },
  {
   "cell_type": "code",
   "execution_count": 41,
   "metadata": {},
   "outputs": [],
   "source": [
    "# Must revisit this drop since there is useful info here that I'm dropping for simplicity\n",
    "june.drop(columns=['property_type', 'amenities', 'calendar_last_scraped'], inplace=True)"
   ]
  },
  {
   "cell_type": "code",
   "execution_count": 42,
   "metadata": {},
   "outputs": [],
   "source": [
    "june = june.astype(\n",
    "    {\n",
    "        \"last_scraped\": \"datetime64\",\n",
    "        \"host_since\": \"datetime64\",\n",
    "        'first_review': 'datetime64',\n",
    "        'last_review': 'datetime64',\n",
    "    }\n",
    ")"
   ]
  },
  {
   "cell_type": "code",
   "execution_count": 43,
   "metadata": {},
   "outputs": [],
   "source": [
    "june[\"host_response_rate\"] = (\n",
    "    june[\"host_response_rate\"].str.replace(\"%\", \"\").fillna(0).astype(\"float\") / 100.0\n",
    ")"
   ]
  },
  {
   "cell_type": "code",
   "execution_count": 44,
   "metadata": {},
   "outputs": [],
   "source": [
    "june[\"host_acceptance_rate\"] = (\n",
    "    june[\"host_acceptance_rate\"].str.replace(\"%\", \"\").fillna(0).astype(\"float\") / 100.0\n",
    ")"
   ]
  },
  {
   "cell_type": "code",
   "execution_count": 45,
   "metadata": {},
   "outputs": [],
   "source": [
    "june[\"host_is_superhost\"] = (\n",
    "    june[\"host_is_superhost\"].map({\"f\": 0, \"t\": 1}).astype(\"bool\")\n",
    ")"
   ]
  },
  {
   "cell_type": "code",
   "execution_count": 46,
   "metadata": {},
   "outputs": [],
   "source": [
    "june[\"host_identity_verified\"] = (\n",
    "    june[\"host_identity_verified\"].map({\"f\": 0, \"t\": 1}).astype(\"bool\")\n",
    ")"
   ]
  },
  {
   "cell_type": "code",
   "execution_count": 47,
   "metadata": {},
   "outputs": [],
   "source": [
    "june['bathrooms_text'] = june[\"bathrooms_text\"].map(\n",
    "    {\n",
    "        \"3 baths\": \"3 a\",\n",
    "        \"1 bath\": \"1 a\",\n",
    "        \"1 private bath\": \"1 a\",\n",
    "        \"5.5 baths\": \"5.5 a\",\n",
    "        \"1 shared bath\": \"1 b\",\n",
    "        \"1.5 baths\": \"1.5 a\",\n",
    "        \"1.5 shared baths\": \"1.5 b\",\n",
    "        \"2 baths\": \"2 a\",\n",
    "        \"5 baths\": \"5 a\",\n",
    "        \"4.5 baths\": \"4.5 a\",\n",
    "        \"2.5 baths\": \"2.5 a\",\n",
    "        \"3.5 baths\": \"3.5 a\",\n",
    "        \"2 shared baths\": \"2 b\",\n",
    "        \"5.5 shared baths\": \"5.5 b\",\n",
    "        \"6 baths\": \"6 b\",\n",
    "        \"3 shared baths\": \"3 b\",\n",
    "        \"8 shared baths\": \"8 b\",\n",
    "        \"2.5 shared baths\": \"2.5 b\",\n",
    "        \"Half-bath\": \"0.5 a\",\n",
    "        \"3.5 shared baths\": \"3.5 b\",\n",
    "        \"4 baths\": \"4 a\",\n",
    "        \"10 baths\": \"10 a\",\n",
    "        \"5 shared baths\": \"5 b\",\n",
    "        \"16 baths\": \"16 a\",\n",
    "        \"4 shared baths\": \"4 a\",\n",
    "        \"0 baths\": \"0 a\",\n",
    "        \"7 baths\": \"7 a\",\n",
    "        \"20 baths\": \"20 a\",\n",
    "        \"4.5 shared baths\": \"4.5 b\",\n",
    "        \"0 shared baths\": \"0 b\",\n",
    "        \"50 baths\": \"50 a\",\n",
    "        \"10 shared baths\": \"10 b\",\n",
    "        \"Shared half-bath\": \"0.5 b\",\n",
    "        \"6.5 shared baths\": \"6.5 b\",\n",
    "        \"8.5 baths\": \"8.5 a\",\n",
    "        \"7.5 baths\": \"7.5 a\",\n",
    "        \"9 baths\": \"9 a\",\n",
    "        \"11.5 baths\": \"11.5 a\",\n",
    "        \"8 baths\": \"8 a\",\n",
    "        \"Private half-bath\": \"0.5 a\",\n",
    "        \"14 baths\": \"14 a\",\n",
    "        \"11 baths\": \"11 a\",\n",
    "        \"6.5 baths\": \"6.5 a\",\n",
    "        \"6 shared baths\": \"6 b\",\n",
    "        \"8.5 shared baths\": \"8.5 b\",\n",
    "        \"13 baths\": \"13 a\",\n",
    "        \"15 shared baths\": \"15 b\",\n",
    "        \"17 baths\": \"17 a\",\n",
    "        \"12 shared baths\": \"12 b\",\n",
    "        \"7.5 shared baths\": \"7.5 b\",\n",
    "        \"7 shared baths\": \"7 b\",\n",
    "        \"9.5 baths\": \"9.5 a\",\n",
    "        \"30 baths\": \"30 a\",\n",
    "        \"26 baths\": \"26 a\",\n",
    "    }\n",
    ")"
   ]
  },
  {
   "cell_type": "code",
   "execution_count": 48,
   "metadata": {},
   "outputs": [],
   "source": [
    "june[['bathrooms_count', 'bathrooms_type']] = june['bathrooms_text'].str.split(expand=True)\n",
    "june['bathrooms_count'] = june['bathrooms_count'].astype('float')\n",
    "june['bathrooms_type'] = june['bathrooms_type'].astype('category')"
   ]
  },
  {
   "cell_type": "code",
   "execution_count": 49,
   "metadata": {},
   "outputs": [],
   "source": [
    "june['price'] = june['price'].str.replace('[\\$,]', '', regex=True).astype('float')"
   ]
  },
  {
   "cell_type": "code",
   "execution_count": 50,
   "metadata": {},
   "outputs": [],
   "source": [
    "june[\"instant_bookable\"] = (\n",
    "    june[\"instant_bookable\"].map({\"f\": 0, \"t\": 1}).astype(\"bool\")\n",
    ")"
   ]
  },
  {
   "cell_type": "code",
   "execution_count": 51,
   "metadata": {},
   "outputs": [],
   "source": [
    "june[\"has_availability\"] = (\n",
    "    june[\"has_availability\"].map({\"f\": 0, \"t\": 1}).astype(\"bool\")\n",
    ")"
   ]
  },
  {
   "cell_type": "code",
   "execution_count": 52,
   "metadata": {},
   "outputs": [
    {
     "data": {
      "text/plain": [
       "neighbourhood\n",
       "CDMX , Ciudad de Mexico, Mexico                   20000.000000\n",
       "Colonia Condesa, Mexico City, Mexico              10933.000000\n",
       "Lomas de Chapultepec, Ciudad de México, Mexico    10121.000000\n",
       "San Miguel Ajusco, Ciudad de México, Mexico        9870.333333\n",
       "Cuernavaca, Morelos, Mexico                        9127.000000\n",
       "El Capulín, Morelos, Mexico                        8500.000000\n",
       "CDMX, D.F., Mexico                                 6084.000000\n",
       "Mexico, CDMX, Mexico                               4442.000000\n",
       "Colonia Hipódromo, Ciudad de México, Mexico        4375.000000\n",
       "San Agustin Etla, Oaxaca, Oax., Oaxaca, Mexico     4056.000000\n",
       "Name: price, dtype: float64"
      ]
     },
     "execution_count": 52,
     "metadata": {},
     "output_type": "execute_result"
    }
   ],
   "source": [
    "june.groupby('neighbourhood').mean()['price'].sort_values(ascending=False).head(10)"
   ]
  },
  {
   "cell_type": "code",
   "execution_count": 53,
   "metadata": {},
   "outputs": [
    {
     "data": {
      "text/plain": [
       "longitude                                      -0.020074\n",
       "calculated_host_listings_count_private_rooms   -0.014550\n",
       "number_of_reviews                              -0.013949\n",
       "number_of_reviews_ltm                          -0.012835\n",
       "number_of_reviews_l30d                         -0.012649\n",
       "Name: price, dtype: float64"
      ]
     },
     "execution_count": 53,
     "metadata": {},
     "output_type": "execute_result"
    }
   ],
   "source": [
    "june.corr()['price'].sort_values().head()"
   ]
  },
  {
   "cell_type": "code",
   "execution_count": 54,
   "metadata": {},
   "outputs": [
    {
     "data": {
      "text/plain": [
       "price                                          1.000000\n",
       "accommodates                                   0.103180\n",
       "bathrooms_count                                0.091676\n",
       "bedrooms                                       0.080340\n",
       "beds                                           0.076775\n",
       "calculated_host_listings_count_entire_homes    0.035844\n",
       "Name: price, dtype: float64"
      ]
     },
     "execution_count": 54,
     "metadata": {},
     "output_type": "execute_result"
    }
   ],
   "source": [
    "june.corr()['price'].sort_values(ascending=False).head(6)"
   ]
  },
  {
   "cell_type": "code",
   "execution_count": 55,
   "metadata": {},
   "outputs": [],
   "source": [
    "# Keep features related to property only\n",
    "june.drop(\n",
    "    columns=[\n",
    "        \"id\",\n",
    "        \"listing_url\",\n",
    "        \"scrape_id\",\n",
    "        \"last_scraped\",\n",
    "        \"name\",\n",
    "        \"description\",\n",
    "        \"neighborhood_overview\",\n",
    "        \"picture_url\",\n",
    "        \"host_id\",\n",
    "        \"host_url\",\n",
    "        \"host_name\",\n",
    "        \"host_since\",\n",
    "        \"host_location\",\n",
    "        \"host_about\",\n",
    "        \"host_response_time\",\n",
    "        \"host_response_rate\",\n",
    "        \"host_acceptance_rate\",\n",
    "        \"host_is_superhost\",\n",
    "        \"host_thumbnail_url\",\n",
    "        \"host_picture_url\",\n",
    "        \"host_neighbourhood\",\n",
    "        \"host_listings_count\",\n",
    "        \"host_total_listings_count\",\n",
    "        \"host_verifications\",\n",
    "        \"host_has_profile_pic\",\n",
    "        \"host_identity_verified\",\n",
    "        \"minimum_nights\",\n",
    "        \"maximum_nights\",\n",
    "        \"minimum_minimum_nights\",\n",
    "        \"maximum_minimum_nights\",\n",
    "        \"minimum_maximum_nights\",\n",
    "        \"maximum_maximum_nights\",\n",
    "        \"minimum_nights_avg_ntm\",\n",
    "        \"maximum_nights_avg_ntm\",\n",
    "        \"has_availability\",\n",
    "        \"number_of_reviews\",\n",
    "        \"number_of_reviews_ltm\",\n",
    "        \"number_of_reviews_l30d\",\n",
    "        \"first_review\",\n",
    "        \"last_review\",\n",
    "        \"review_scores_rating\",\n",
    "        \"review_scores_accuracy\",\n",
    "        \"review_scores_cleanliness\",\n",
    "        \"review_scores_checkin\",\n",
    "        \"review_scores_communication\",\n",
    "        \"review_scores_location\",\n",
    "        \"review_scores_value\",\n",
    "        \"instant_bookable\",\n",
    "        \"calculated_host_listings_count\",\n",
    "        \"calculated_host_listings_count_entire_homes\",\n",
    "        \"calculated_host_listings_count_private_rooms\",\n",
    "        \"calculated_host_listings_count_shared_rooms\",\n",
    "        \"reviews_per_month\",\n",
    "        \"bathrooms_text\",\n",
    "        \"neighbourhood\",\n",
    "        \"neighbourhood_cleansed\",\n",
    "        \"bathrooms_type\",\n",
    "    ],\n",
    "    inplace=True,\n",
    ")"
   ]
  },
  {
   "cell_type": "code",
   "execution_count": 56,
   "metadata": {},
   "outputs": [
    {
     "name": "stdout",
     "output_type": "stream",
     "text": [
      "<class 'pandas.core.frame.DataFrame'>\n",
      "RangeIndex: 21669 entries, 0 to 21668\n",
      "Data columns (total 12 columns):\n",
      " #   Column            Non-Null Count  Dtype  \n",
      "---  ------            --------------  -----  \n",
      " 0   latitude          21669 non-null  float64\n",
      " 1   longitude         21669 non-null  float64\n",
      " 2   room_type         21669 non-null  object \n",
      " 3   accommodates      21669 non-null  int64  \n",
      " 4   bedrooms          21000 non-null  float64\n",
      " 5   beds              21272 non-null  float64\n",
      " 6   price             21669 non-null  float64\n",
      " 7   availability_30   21669 non-null  int64  \n",
      " 8   availability_60   21669 non-null  int64  \n",
      " 9   availability_90   21669 non-null  int64  \n",
      " 10  availability_365  21669 non-null  int64  \n",
      " 11  bathrooms_count   21617 non-null  float64\n",
      "dtypes: float64(6), int64(5), object(1)\n",
      "memory usage: 2.0+ MB\n"
     ]
    }
   ],
   "source": [
    "june.info()"
   ]
  },
  {
   "cell_type": "code",
   "execution_count": 64,
   "metadata": {},
   "outputs": [
    {
     "data": {
      "text/plain": [
       "latitude              0.016102\n",
       "longitude            -0.020074\n",
       "accommodates          0.103180\n",
       "bedrooms              0.080340\n",
       "beds                  0.076775\n",
       "price                 1.000000\n",
       "availability_30       0.015509\n",
       "availability_60       0.013319\n",
       "availability_90       0.011386\n",
       "availability_365      0.016410\n",
       "bathrooms_count       0.091676\n",
       "forecasted_revenue    0.370518\n",
       "Name: price, dtype: float64"
      ]
     },
     "execution_count": 64,
     "metadata": {},
     "output_type": "execute_result"
    }
   ],
   "source": [
    "june.corr()['price']"
   ]
  },
  {
   "cell_type": "code",
   "execution_count": 57,
   "metadata": {},
   "outputs": [],
   "source": [
    "june['forecasted_revenue'] = june['price']*(365 - june['availability_365'])"
   ]
  },
  {
   "cell_type": "code",
   "execution_count": 30,
   "metadata": {},
   "outputs": [],
   "source": [
    "june = pd.get_dummies(june, columns=['room_type'])"
   ]
  },
  {
   "cell_type": "code",
   "execution_count": 58,
   "metadata": {},
   "outputs": [
    {
     "name": "stdout",
     "output_type": "stream",
     "text": [
      "<class 'pandas.core.frame.DataFrame'>\n",
      "RangeIndex: 21669 entries, 0 to 21668\n",
      "Data columns (total 13 columns):\n",
      " #   Column              Non-Null Count  Dtype  \n",
      "---  ------              --------------  -----  \n",
      " 0   latitude            21669 non-null  float64\n",
      " 1   longitude           21669 non-null  float64\n",
      " 2   room_type           21669 non-null  object \n",
      " 3   accommodates        21669 non-null  int64  \n",
      " 4   bedrooms            21000 non-null  float64\n",
      " 5   beds                21272 non-null  float64\n",
      " 6   price               21669 non-null  float64\n",
      " 7   availability_30     21669 non-null  int64  \n",
      " 8   availability_60     21669 non-null  int64  \n",
      " 9   availability_90     21669 non-null  int64  \n",
      " 10  availability_365    21669 non-null  int64  \n",
      " 11  bathrooms_count     21617 non-null  float64\n",
      " 12  forecasted_revenue  21669 non-null  float64\n",
      "dtypes: float64(7), int64(5), object(1)\n",
      "memory usage: 2.1+ MB\n"
     ]
    }
   ],
   "source": [
    "june.info()"
   ]
  },
  {
   "cell_type": "code",
   "execution_count": 63,
   "metadata": {},
   "outputs": [
    {
     "data": {
      "text/plain": [
       "<AxesSubplot:xlabel='longitude', ylabel='latitude'>"
      ]
     },
     "execution_count": 63,
     "metadata": {},
     "output_type": "execute_result"
    },
    {
     "data": {
      "image/png": "[encoded data removed]",
      "text/plain": [
       "<Figure size 432x288 with 1 Axes>"
      ]
     },
     "metadata": {
      "needs_background": "light"
     },
     "output_type": "display_data"
    }
   ],
   "source": [
    "sns.scatterplot(data=june, x='longitude', y='latitude', hue='availability_30')"
   ]
  },
  {
   "cell_type": "code",
   "execution_count": null,
   "metadata": {},
   "outputs": [],
   "source": [
    "from sklearn.decomposition import PCA"
   ]
  },
  {
   "cell_type": "code",
   "execution_count": null,
   "metadata": {},
   "outputs": [],
   "source": [
    "X = june.select_dtypes(['number']).drop(columns=['price']).fillna(0)\n",
    "y = june['price']"
   ]
  },
  {
   "cell_type": "code",
   "execution_count": null,
   "metadata": {},
   "outputs": [],
   "source": [
    "pca = PCA()\n",
    "pca.fit(X)"
   ]
  },
  {
   "cell_type": "code",
   "execution_count": null,
   "metadata": {},
   "outputs": [],
   "source": [
    "pd.DataFrame(data=pca.explained_variance_ratio_, index=X.columns).sort_values(by=0, ascending=False).head(20)"
   ]
  },
  {
   "cell_type": "code",
   "execution_count": null,
   "metadata": {},
   "outputs": [],
   "source": [
    "from sklearn.ensemble import GradientBoostingRegressor"
   ]
  },
  {
   "cell_type": "code",
   "execution_count": null,
   "metadata": {},
   "outputs": [],
   "source": [
    "reg = GradientBoostingRegressor(random_state=1331)\n",
    "reg.fit(X, y)"
   ]
  },
  {
   "cell_type": "code",
   "execution_count": null,
   "metadata": {},
   "outputs": [],
   "source": [
    "reg.score(X, y)"
   ]
  },
  {
   "cell_type": "code",
   "execution_count": 65,
   "metadata": {},
   "outputs": [
    {
     "data": {
      "text/plain": [
       "Index(['latitude', 'longitude', 'room_type', 'accommodates', 'bedrooms',\n",
       "       'beds', 'price', 'availability_30', 'availability_60',\n",
       "       'availability_90', 'availability_365', 'bathrooms_count',\n",
       "       'forecasted_revenue'],\n",
       "      dtype='object')"
      ]
     },
     "execution_count": 65,
     "metadata": {},
     "output_type": "execute_result"
    }
   ],
   "source": [
    "june.columns"
   ]
  },
  {
   "cell_type": "code",
   "execution_count": 107,
   "metadata": {},
   "outputs": [
    {
     "data": {
      "text/html": [
       "<div>\n",
       "<style scoped>\n",
       "    .dataframe tbody tr th:only-of-type {\n",
       "        vertical-align: middle;\n",
       "    }\n",
       "\n",
       "    .dataframe tbody tr th {\n",
       "        vertical-align: top;\n",
       "    }\n",
       "\n",
       "    .dataframe thead th {\n",
       "        text-align: right;\n",
       "    }\n",
       "</style>\n",
       "<table border=\"1\" class=\"dataframe\">\n",
       "  <thead>\n",
       "    <tr style=\"text-align: right;\">\n",
       "      <th></th>\n",
       "      <th>id</th>\n",
       "      <th>last_scraped</th>\n",
       "      <th>latitude</th>\n",
       "      <th>longitude</th>\n",
       "      <th>room_type</th>\n",
       "      <th>accommodates</th>\n",
       "      <th>bedrooms</th>\n",
       "      <th>beds</th>\n",
       "      <th>availability_30</th>\n",
       "      <th>availability_60</th>\n",
       "      <th>...</th>\n",
       "      <th>year</th>\n",
       "      <th>month</th>\n",
       "      <th>day</th>\n",
       "      <th>first_mo_occ</th>\n",
       "      <th>second_mo_occ</th>\n",
       "      <th>third_mo_occ</th>\n",
       "      <th>month_1_revenue</th>\n",
       "      <th>month_2_revenue</th>\n",
       "      <th>month_3_revenue</th>\n",
       "      <th>total_90_day_revenue</th>\n",
       "    </tr>\n",
       "  </thead>\n",
       "  <tbody>\n",
       "    <tr>\n",
       "      <th>0</th>\n",
       "      <td>52390579</td>\n",
       "      <td>2022-06-21</td>\n",
       "      <td>19.395126</td>\n",
       "      <td>-99.277374</td>\n",
       "      <td>Private room</td>\n",
       "      <td>1</td>\n",
       "      <td>3.0</td>\n",
       "      <td>1.0</td>\n",
       "      <td>30</td>\n",
       "      <td>60</td>\n",
       "      <td>...</td>\n",
       "      <td>2022</td>\n",
       "      <td>6</td>\n",
       "      <td>21</td>\n",
       "      <td>0</td>\n",
       "      <td>0</td>\n",
       "      <td>0</td>\n",
       "      <td>0.0</td>\n",
       "      <td>0.0</td>\n",
       "      <td>0.0</td>\n",
       "      <td>0.0</td>\n",
       "    </tr>\n",
       "    <tr>\n",
       "      <th>1</th>\n",
       "      <td>35797</td>\n",
       "      <td>2022-06-21</td>\n",
       "      <td>19.382830</td>\n",
       "      <td>-99.271780</td>\n",
       "      <td>Entire home/apt</td>\n",
       "      <td>2</td>\n",
       "      <td>1.0</td>\n",
       "      <td>1.0</td>\n",
       "      <td>28</td>\n",
       "      <td>58</td>\n",
       "      <td>...</td>\n",
       "      <td>2022</td>\n",
       "      <td>6</td>\n",
       "      <td>21</td>\n",
       "      <td>2</td>\n",
       "      <td>0</td>\n",
       "      <td>0</td>\n",
       "      <td>8112.0</td>\n",
       "      <td>0.0</td>\n",
       "      <td>0.0</td>\n",
       "      <td>8112.0</td>\n",
       "    </tr>\n",
       "    <tr>\n",
       "      <th>2</th>\n",
       "      <td>15511977</td>\n",
       "      <td>2022-06-21</td>\n",
       "      <td>19.410950</td>\n",
       "      <td>-99.244180</td>\n",
       "      <td>Private room</td>\n",
       "      <td>2</td>\n",
       "      <td>1.0</td>\n",
       "      <td>1.0</td>\n",
       "      <td>29</td>\n",
       "      <td>59</td>\n",
       "      <td>...</td>\n",
       "      <td>2022</td>\n",
       "      <td>6</td>\n",
       "      <td>21</td>\n",
       "      <td>1</td>\n",
       "      <td>0</td>\n",
       "      <td>0</td>\n",
       "      <td>800.0</td>\n",
       "      <td>0.0</td>\n",
       "      <td>0.0</td>\n",
       "      <td>800.0</td>\n",
       "    </tr>\n",
       "    <tr>\n",
       "      <th>3</th>\n",
       "      <td>44616</td>\n",
       "      <td>2022-06-22</td>\n",
       "      <td>19.411620</td>\n",
       "      <td>-99.177940</td>\n",
       "      <td>Entire home/apt</td>\n",
       "      <td>14</td>\n",
       "      <td>5.0</td>\n",
       "      <td>8.0</td>\n",
       "      <td>26</td>\n",
       "      <td>53</td>\n",
       "      <td>...</td>\n",
       "      <td>2022</td>\n",
       "      <td>6</td>\n",
       "      <td>22</td>\n",
       "      <td>4</td>\n",
       "      <td>3</td>\n",
       "      <td>0</td>\n",
       "      <td>72000.0</td>\n",
       "      <td>54000.0</td>\n",
       "      <td>0.0</td>\n",
       "      <td>126000.0</td>\n",
       "    </tr>\n",
       "    <tr>\n",
       "      <th>4</th>\n",
       "      <td>34776449</td>\n",
       "      <td>2022-06-21</td>\n",
       "      <td>19.426410</td>\n",
       "      <td>-99.225910</td>\n",
       "      <td>Private room</td>\n",
       "      <td>3</td>\n",
       "      <td>1.0</td>\n",
       "      <td>2.0</td>\n",
       "      <td>23</td>\n",
       "      <td>46</td>\n",
       "      <td>...</td>\n",
       "      <td>2022</td>\n",
       "      <td>6</td>\n",
       "      <td>21</td>\n",
       "      <td>7</td>\n",
       "      <td>7</td>\n",
       "      <td>2</td>\n",
       "      <td>12453.0</td>\n",
       "      <td>12453.0</td>\n",
       "      <td>3558.0</td>\n",
       "      <td>28464.0</td>\n",
       "    </tr>\n",
       "    <tr>\n",
       "      <th>...</th>\n",
       "      <td>...</td>\n",
       "      <td>...</td>\n",
       "      <td>...</td>\n",
       "      <td>...</td>\n",
       "      <td>...</td>\n",
       "      <td>...</td>\n",
       "      <td>...</td>\n",
       "      <td>...</td>\n",
       "      <td>...</td>\n",
       "      <td>...</td>\n",
       "      <td>...</td>\n",
       "      <td>...</td>\n",
       "      <td>...</td>\n",
       "      <td>...</td>\n",
       "      <td>...</td>\n",
       "      <td>...</td>\n",
       "      <td>...</td>\n",
       "      <td>...</td>\n",
       "      <td>...</td>\n",
       "      <td>...</td>\n",
       "      <td>...</td>\n",
       "    </tr>\n",
       "    <tr>\n",
       "      <th>21664</th>\n",
       "      <td>618034488468131637</td>\n",
       "      <td>2022-06-21</td>\n",
       "      <td>19.499980</td>\n",
       "      <td>-99.226010</td>\n",
       "      <td>Entire home/apt</td>\n",
       "      <td>4</td>\n",
       "      <td>1.0</td>\n",
       "      <td>2.0</td>\n",
       "      <td>20</td>\n",
       "      <td>50</td>\n",
       "      <td>...</td>\n",
       "      <td>2022</td>\n",
       "      <td>6</td>\n",
       "      <td>21</td>\n",
       "      <td>10</td>\n",
       "      <td>0</td>\n",
       "      <td>0</td>\n",
       "      <td>6730.0</td>\n",
       "      <td>0.0</td>\n",
       "      <td>0.0</td>\n",
       "      <td>6730.0</td>\n",
       "    </tr>\n",
       "    <tr>\n",
       "      <th>21665</th>\n",
       "      <td>22107097</td>\n",
       "      <td>2022-06-21</td>\n",
       "      <td>19.507870</td>\n",
       "      <td>-99.220670</td>\n",
       "      <td>Entire home/apt</td>\n",
       "      <td>3</td>\n",
       "      <td>1.0</td>\n",
       "      <td>2.0</td>\n",
       "      <td>0</td>\n",
       "      <td>9</td>\n",
       "      <td>...</td>\n",
       "      <td>2022</td>\n",
       "      <td>6</td>\n",
       "      <td>21</td>\n",
       "      <td>30</td>\n",
       "      <td>21</td>\n",
       "      <td>0</td>\n",
       "      <td>26910.0</td>\n",
       "      <td>18837.0</td>\n",
       "      <td>0.0</td>\n",
       "      <td>45747.0</td>\n",
       "    </tr>\n",
       "    <tr>\n",
       "      <th>21666</th>\n",
       "      <td>40617809</td>\n",
       "      <td>2022-06-21</td>\n",
       "      <td>19.507530</td>\n",
       "      <td>-99.225060</td>\n",
       "      <td>Entire home/apt</td>\n",
       "      <td>1</td>\n",
       "      <td>1.0</td>\n",
       "      <td>1.0</td>\n",
       "      <td>0</td>\n",
       "      <td>0</td>\n",
       "      <td>...</td>\n",
       "      <td>2022</td>\n",
       "      <td>6</td>\n",
       "      <td>21</td>\n",
       "      <td>30</td>\n",
       "      <td>30</td>\n",
       "      <td>30</td>\n",
       "      <td>6900.0</td>\n",
       "      <td>6900.0</td>\n",
       "      <td>6900.0</td>\n",
       "      <td>20700.0</td>\n",
       "    </tr>\n",
       "    <tr>\n",
       "      <th>21667</th>\n",
       "      <td>569519288654139909</td>\n",
       "      <td>2022-06-21</td>\n",
       "      <td>19.493360</td>\n",
       "      <td>-99.229090</td>\n",
       "      <td>Entire home/apt</td>\n",
       "      <td>1</td>\n",
       "      <td>1.0</td>\n",
       "      <td>1.0</td>\n",
       "      <td>19</td>\n",
       "      <td>49</td>\n",
       "      <td>...</td>\n",
       "      <td>2022</td>\n",
       "      <td>6</td>\n",
       "      <td>21</td>\n",
       "      <td>11</td>\n",
       "      <td>0</td>\n",
       "      <td>0</td>\n",
       "      <td>7590.0</td>\n",
       "      <td>0.0</td>\n",
       "      <td>0.0</td>\n",
       "      <td>7590.0</td>\n",
       "    </tr>\n",
       "    <tr>\n",
       "      <th>21668</th>\n",
       "      <td>37175605</td>\n",
       "      <td>2022-06-21</td>\n",
       "      <td>19.490040</td>\n",
       "      <td>-99.230310</td>\n",
       "      <td>Entire home/apt</td>\n",
       "      <td>6</td>\n",
       "      <td>6.0</td>\n",
       "      <td>5.0</td>\n",
       "      <td>10</td>\n",
       "      <td>10</td>\n",
       "      <td>...</td>\n",
       "      <td>2022</td>\n",
       "      <td>6</td>\n",
       "      <td>21</td>\n",
       "      <td>20</td>\n",
       "      <td>30</td>\n",
       "      <td>30</td>\n",
       "      <td>64560.0</td>\n",
       "      <td>96840.0</td>\n",
       "      <td>96840.0</td>\n",
       "      <td>258240.0</td>\n",
       "    </tr>\n",
       "  </tbody>\n",
       "</table>\n",
       "<p>21669 rows × 24 columns</p>\n",
       "</div>"
      ],
      "text/plain": [
       "                       id last_scraped   latitude  longitude        room_type  \\\n",
       "0                52390579   2022-06-21  19.395126 -99.277374     Private room   \n",
       "1                   35797   2022-06-21  19.382830 -99.271780  Entire home/apt   \n",
       "2                15511977   2022-06-21  19.410950 -99.244180     Private room   \n",
       "3                   44616   2022-06-22  19.411620 -99.177940  Entire home/apt   \n",
       "4                34776449   2022-06-21  19.426410 -99.225910     Private room   \n",
       "...                   ...          ...        ...        ...              ...   \n",
       "21664  618034488468131637   2022-06-21  19.499980 -99.226010  Entire home/apt   \n",
       "21665            22107097   2022-06-21  19.507870 -99.220670  Entire home/apt   \n",
       "21666            40617809   2022-06-21  19.507530 -99.225060  Entire home/apt   \n",
       "21667  569519288654139909   2022-06-21  19.493360 -99.229090  Entire home/apt   \n",
       "21668            37175605   2022-06-21  19.490040 -99.230310  Entire home/apt   \n",
       "\n",
       "       accommodates  bedrooms  beds  availability_30  availability_60  ...  \\\n",
       "0                 1       3.0   1.0               30               60  ...   \n",
       "1                 2       1.0   1.0               28               58  ...   \n",
       "2                 2       1.0   1.0               29               59  ...   \n",
       "3                14       5.0   8.0               26               53  ...   \n",
       "4                 3       1.0   2.0               23               46  ...   \n",
       "...             ...       ...   ...              ...              ...  ...   \n",
       "21664             4       1.0   2.0               20               50  ...   \n",
       "21665             3       1.0   2.0                0                9  ...   \n",
       "21666             1       1.0   1.0                0                0  ...   \n",
       "21667             1       1.0   1.0               19               49  ...   \n",
       "21668             6       6.0   5.0               10               10  ...   \n",
       "\n",
       "       year  month  day  first_mo_occ  second_mo_occ  third_mo_occ  \\\n",
       "0      2022      6   21             0              0             0   \n",
       "1      2022      6   21             2              0             0   \n",
       "2      2022      6   21             1              0             0   \n",
       "3      2022      6   22             4              3             0   \n",
       "4      2022      6   21             7              7             2   \n",
       "...     ...    ...  ...           ...            ...           ...   \n",
       "21664  2022      6   21            10              0             0   \n",
       "21665  2022      6   21            30             21             0   \n",
       "21666  2022      6   21            30             30            30   \n",
       "21667  2022      6   21            11              0             0   \n",
       "21668  2022      6   21            20             30            30   \n",
       "\n",
       "       month_1_revenue  month_2_revenue  month_3_revenue  total_90_day_revenue  \n",
       "0                  0.0              0.0              0.0                   0.0  \n",
       "1               8112.0              0.0              0.0                8112.0  \n",
       "2                800.0              0.0              0.0                 800.0  \n",
       "3              72000.0          54000.0              0.0              126000.0  \n",
       "4              12453.0          12453.0           3558.0               28464.0  \n",
       "...                ...              ...              ...                   ...  \n",
       "21664           6730.0              0.0              0.0                6730.0  \n",
       "21665          26910.0          18837.0              0.0               45747.0  \n",
       "21666           6900.0           6900.0           6900.0               20700.0  \n",
       "21667           7590.0              0.0              0.0                7590.0  \n",
       "21668          64560.0          96840.0          96840.0              258240.0  \n",
       "\n",
       "[21669 rows x 24 columns]"
      ]
     },
     "execution_count": 107,
     "metadata": {},
     "output_type": "execute_result"
    }
   ],
   "source": [
    "# Chained assignment to work with raw data. Must turn price to float and get bathroom count from bathroom_text\n",
    "(\n",
    "    june[\n",
    "        [\n",
    "            \"id\",\n",
    "            \"last_scraped\",\n",
    "            \"latitude\",\n",
    "            \"longitude\",\n",
    "            \"room_type\",\n",
    "            \"accommodates\",\n",
    "            \"bedrooms\",\n",
    "            \"beds\",\n",
    "            \"price\",\n",
    "            \"availability_30\",\n",
    "            \"availability_60\",\n",
    "            \"availability_90\",\n",
    "            \"availability_365\",\n",
    "            \"bathrooms_text\",\n",
    "        ]\n",
    "    ]\n",
    "    .astype({\"last_scraped\": \"datetime64\", \"room_type\": \"category\"})\n",
    "    .assign(\n",
    "        price_float=lambda x: x.price.str.replace(\"[\\$,]\", \"\", regex=True).astype(\n",
    "            \"float\"\n",
    "        ),\n",
    "        bathrooms_count=lambda x: x.bathrooms_text.str.extract(\"(\\d+(?:\\.\\d+)?)\")\n",
    "        .fillna(0)\n",
    "        .astype(\"float\"),\n",
    "        year=lambda x: x.last_scraped.dt.year,\n",
    "        month=lambda x: x.last_scraped.dt.month,\n",
    "        day=lambda x: x.last_scraped.dt.day,\n",
    "        first_mo_occ=lambda x: (30 - x.availability_30),\n",
    "        second_mo_occ=lambda x: (60 - x.availability_60) - x.first_mo_occ,\n",
    "        third_mo_occ=lambda x: (90 - x.availability_90) - x.first_mo_occ - x.second_mo_occ,\n",
    "        month_1_revenue=lambda x: x.price_float * x.first_mo_occ,\n",
    "        month_2_revenue=lambda x: x.price_float * x.second_mo_occ,\n",
    "        month_3_revenue=lambda x: x.price_float * x.third_mo_occ,\n",
    "        total_90_day_revenue=lambda x: (90 - x.availability_90) * x.price_float\n",
    "    )\n",
    "    .drop(columns=[\"price\", \"bathrooms_text\"])\n",
    ")"
   ]
  },
  {
   "cell_type": "code",
   "execution_count": null,
   "metadata": {},
   "outputs": [],
   "source": []
  }
 ],
 "metadata": {
  "kernelspec": {
   "display_name": "Python 3.9.12 ('base')",
   "language": "python",
   "name": "python3"
  },
  "language_info": {
   "codemirror_mode": {
    "name": "ipython",
    "version": 3
   },
   "file_extension": ".py",
   "mimetype": "text/x-python",
   "name": "python",
   "nbconvert_exporter": "python",
   "pygments_lexer": "ipython3",
   "version": "3.9.12"
  },
  "orig_nbformat": 4,
  "vscode": {
   "interpreter": {
    "hash": "f7a0f9bb49171c226bccce8a0987518af550515ba22b4949d7abe766c3680a51"
   }
  }
 },
 "nbformat": 4,
 "nbformat_minor": 2
}
