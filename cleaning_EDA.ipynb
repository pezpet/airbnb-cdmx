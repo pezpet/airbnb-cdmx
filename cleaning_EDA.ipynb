{
 "cells": [
  {
   "cell_type": "markdown",
   "metadata": {},
   "source": [
    "# Data Import, Cleaning, and EDA for AirBnB listings in Mexico City\n",
    "from insideairbnb.com"
   ]
  },
  {
   "cell_type": "markdown",
   "metadata": {},
   "source": [
    "## Import Libraries"
   ]
  },
  {
   "cell_type": "code",
   "execution_count": 128,
   "metadata": {},
   "outputs": [],
   "source": [
    "import pandas as pd\n",
    "import numpy as np\n",
    "import seaborn as sns"
   ]
  },
  {
   "cell_type": "markdown",
   "metadata": {},
   "source": [
    "## Import Data\n",
    "Free Data is available quarterly so I have imported listings one year back starting in June 2022"
   ]
  },
  {
   "cell_type": "code",
   "execution_count": 129,
   "metadata": {},
   "outputs": [
    {
     "data": {
      "text/plain": [
       "array(['2022-06-21', '2022-06-22'], dtype=object)"
      ]
     },
     "execution_count": 129,
     "metadata": {},
     "output_type": "execute_result"
    }
   ],
   "source": [
    "june = pd.read_csv(\"./data/listings_june.csv\")\n",
    "june[\"last_scraped\"].unique()"
   ]
  },
  {
   "cell_type": "code",
   "execution_count": 130,
   "metadata": {},
   "outputs": [
    {
     "data": {
      "text/plain": [
       "array(['2022-03-27', '2022-03-26'], dtype=object)"
      ]
     },
     "execution_count": 130,
     "metadata": {},
     "output_type": "execute_result"
    }
   ],
   "source": [
    "march = pd.read_csv(\"./data/listings_march.csv\")\n",
    "march[\"last_scraped\"].unique()"
   ]
  },
  {
   "cell_type": "code",
   "execution_count": 131,
   "metadata": {},
   "outputs": [
    {
     "data": {
      "text/plain": [
       "array(['2021-12-26', '2021-12-25', '2021-12-29'], dtype=object)"
      ]
     },
     "execution_count": 131,
     "metadata": {},
     "output_type": "execute_result"
    }
   ],
   "source": [
    "dec = pd.read_csv(\"./data/listings_dec.csv\")\n",
    "dec[\"last_scraped\"].unique()"
   ]
  },
  {
   "cell_type": "code",
   "execution_count": 132,
   "metadata": {},
   "outputs": [
    {
     "data": {
      "text/plain": [
       "array(['2021-09-30', '2021-09-29', '2021-09-28', '2021-10-06'],\n",
       "      dtype=object)"
      ]
     },
     "execution_count": 132,
     "metadata": {},
     "output_type": "execute_result"
    }
   ],
   "source": [
    "sep = pd.read_csv(\"./data/listings_sept.csv\")\n",
    "sep[\"last_scraped\"].unique()"
   ]
  },
  {
   "cell_type": "markdown",
   "metadata": {},
   "source": [
    "## Drop features with high proportion of missing values"
   ]
  },
  {
   "cell_type": "code",
   "execution_count": 133,
   "metadata": {},
   "outputs": [
    {
     "name": "stdout",
     "output_type": "stream",
     "text": [
      "Removed 4 features with > 95.0% missing values\n"
     ]
    }
   ],
   "source": [
    "# Determine NaN rates and drop features with > 80% NaNs\n",
    "thresh = 0.95\n",
    "nan_rates = june.isna().sum(axis=0).sort_values(ascending=False) / float(len(june))\n",
    "june.drop(nan_rates[nan_rates > thresh].index, axis=1, inplace=True)\n",
    "print(\n",
    "    f\"Removed {len(nan_rates[nan_rates > thresh])} features with > {thresh*100}% missing values\"\n",
    ")\n",
    "\n",
    "# Also drop rows with all NaNs\n",
    "june.dropna(how=\"all\", inplace=True)"
   ]
  },
  {
   "cell_type": "code",
   "execution_count": 134,
   "metadata": {},
   "outputs": [
    {
     "data": {
      "text/plain": [
       "Index(['id', 'listing_url', 'scrape_id', 'last_scraped', 'name', 'description',\n",
       "       'neighborhood_overview', 'picture_url', 'host_id', 'host_url',\n",
       "       'host_name', 'host_since', 'host_location', 'host_about',\n",
       "       'host_response_time', 'host_response_rate', 'host_acceptance_rate',\n",
       "       'host_is_superhost', 'host_thumbnail_url', 'host_picture_url',\n",
       "       'host_neighbourhood', 'host_listings_count',\n",
       "       'host_total_listings_count', 'host_verifications',\n",
       "       'host_has_profile_pic', 'host_identity_verified', 'neighbourhood',\n",
       "       'neighbourhood_cleansed', 'latitude', 'longitude', 'property_type',\n",
       "       'room_type', 'accommodates', 'bathrooms_text', 'bedrooms', 'beds',\n",
       "       'amenities', 'price', 'minimum_nights', 'maximum_nights',\n",
       "       'minimum_minimum_nights', 'maximum_minimum_nights',\n",
       "       'minimum_maximum_nights', 'maximum_maximum_nights',\n",
       "       'minimum_nights_avg_ntm', 'maximum_nights_avg_ntm', 'has_availability',\n",
       "       'availability_30', 'availability_60', 'availability_90',\n",
       "       'availability_365', 'calendar_last_scraped', 'number_of_reviews',\n",
       "       'number_of_reviews_ltm', 'number_of_reviews_l30d', 'first_review',\n",
       "       'last_review', 'review_scores_rating', 'review_scores_accuracy',\n",
       "       'review_scores_cleanliness', 'review_scores_checkin',\n",
       "       'review_scores_communication', 'review_scores_location',\n",
       "       'review_scores_value', 'instant_bookable',\n",
       "       'calculated_host_listings_count',\n",
       "       'calculated_host_listings_count_entire_homes',\n",
       "       'calculated_host_listings_count_private_rooms',\n",
       "       'calculated_host_listings_count_shared_rooms', 'reviews_per_month'],\n",
       "      dtype='object')"
      ]
     },
     "execution_count": 134,
     "metadata": {},
     "output_type": "execute_result"
    }
   ],
   "source": [
    "june.columns"
   ]
  },
  {
   "cell_type": "code",
   "execution_count": 135,
   "metadata": {},
   "outputs": [
    {
     "data": {
      "text/plain": [
       "array([nan, 'a few days or more', 'within an hour', 'within a few hours',\n",
       "       'within a day'], dtype=object)"
      ]
     },
     "execution_count": 135,
     "metadata": {},
     "output_type": "execute_result"
    }
   ],
   "source": [
    "june['host_response_time'].unique()"
   ]
  },
  {
   "cell_type": "code",
   "execution_count": 136,
   "metadata": {},
   "outputs": [],
   "source": [
    "# Must revisit this drop since there is useful info here that I'm dropping for simplicity\n",
    "june.drop(columns=['property_type', 'amenities', 'calendar_last_scraped'], inplace=True)"
   ]
  },
  {
   "cell_type": "code",
   "execution_count": 137,
   "metadata": {},
   "outputs": [],
   "source": [
    "june = june.astype(\n",
    "    {\n",
    "        \"last_scraped\": \"datetime64\",\n",
    "        \"host_since\": \"datetime64\",\n",
    "        'first_review': 'datetime64',\n",
    "        'last_review': 'datetime64',\n",
    "    }\n",
    ")"
   ]
  },
  {
   "cell_type": "code",
   "execution_count": 138,
   "metadata": {},
   "outputs": [],
   "source": [
    "june[\"host_response_rate\"] = (\n",
    "    june[\"host_response_rate\"].str.replace(\"%\", \"\").fillna(0).astype(\"float\") / 100.0\n",
    ")"
   ]
  },
  {
   "cell_type": "code",
   "execution_count": 139,
   "metadata": {},
   "outputs": [],
   "source": [
    "june[\"host_acceptance_rate\"] = (\n",
    "    june[\"host_acceptance_rate\"].str.replace(\"%\", \"\").fillna(0).astype(\"float\") / 100.0\n",
    ")"
   ]
  },
  {
   "cell_type": "code",
   "execution_count": 140,
   "metadata": {},
   "outputs": [],
   "source": [
    "june[\"host_is_superhost\"] = (\n",
    "    june[\"host_is_superhost\"].map({\"f\": 0, \"t\": 1}).astype(\"bool\")\n",
    ")"
   ]
  },
  {
   "cell_type": "code",
   "execution_count": 141,
   "metadata": {},
   "outputs": [],
   "source": [
    "june[\"host_identity_verified\"] = (\n",
    "    june[\"host_identity_verified\"].map({\"f\": 0, \"t\": 1}).astype(\"bool\")\n",
    ")"
   ]
  },
  {
   "cell_type": "code",
   "execution_count": 142,
   "metadata": {},
   "outputs": [],
   "source": [
    "june['bathrooms_text'] = june[\"bathrooms_text\"].map(\n",
    "    {\n",
    "        \"3 baths\": \"3 a\",\n",
    "        \"1 bath\": \"1 a\",\n",
    "        \"1 private bath\": \"1 a\",\n",
    "        \"5.5 baths\": \"5.5 a\",\n",
    "        \"1 shared bath\": \"1 b\",\n",
    "        \"1.5 baths\": \"1.5 a\",\n",
    "        \"1.5 shared baths\": \"1.5 b\",\n",
    "        \"2 baths\": \"2 a\",\n",
    "        \"5 baths\": \"5 a\",\n",
    "        \"4.5 baths\": \"4.5 a\",\n",
    "        \"2.5 baths\": \"2.5 a\",\n",
    "        \"3.5 baths\": \"3.5 a\",\n",
    "        \"2 shared baths\": \"2 b\",\n",
    "        \"5.5 shared baths\": \"5.5 b\",\n",
    "        \"6 baths\": \"6 b\",\n",
    "        \"3 shared baths\": \"3 b\",\n",
    "        \"8 shared baths\": \"8 b\",\n",
    "        \"2.5 shared baths\": \"2.5 b\",\n",
    "        \"Half-bath\": \"0.5 a\",\n",
    "        \"3.5 shared baths\": \"3.5 b\",\n",
    "        \"4 baths\": \"4 a\",\n",
    "        \"10 baths\": \"10 a\",\n",
    "        \"5 shared baths\": \"5 b\",\n",
    "        \"16 baths\": \"16 a\",\n",
    "        \"4 shared baths\": \"4 a\",\n",
    "        \"0 baths\": \"0 a\",\n",
    "        \"7 baths\": \"7 a\",\n",
    "        \"20 baths\": \"20 a\",\n",
    "        \"4.5 shared baths\": \"4.5 b\",\n",
    "        \"0 shared baths\": \"0 b\",\n",
    "        \"50 baths\": \"50 a\",\n",
    "        \"10 shared baths\": \"10 b\",\n",
    "        \"Shared half-bath\": \"0.5 b\",\n",
    "        \"6.5 shared baths\": \"6.5 b\",\n",
    "        \"8.5 baths\": \"8.5 a\",\n",
    "        \"7.5 baths\": \"7.5 a\",\n",
    "        \"9 baths\": \"9 a\",\n",
    "        \"11.5 baths\": \"11.5 a\",\n",
    "        \"8 baths\": \"8 a\",\n",
    "        \"Private half-bath\": \"0.5 a\",\n",
    "        \"14 baths\": \"14 a\",\n",
    "        \"11 baths\": \"11 a\",\n",
    "        \"6.5 baths\": \"6.5 a\",\n",
    "        \"6 shared baths\": \"6 b\",\n",
    "        \"8.5 shared baths\": \"8.5 b\",\n",
    "        \"13 baths\": \"13 a\",\n",
    "        \"15 shared baths\": \"15 b\",\n",
    "        \"17 baths\": \"17 a\",\n",
    "        \"12 shared baths\": \"12 b\",\n",
    "        \"7.5 shared baths\": \"7.5 b\",\n",
    "        \"7 shared baths\": \"7 b\",\n",
    "        \"9.5 baths\": \"9.5 a\",\n",
    "        \"30 baths\": \"30 a\",\n",
    "        \"26 baths\": \"26 a\",\n",
    "    }\n",
    ")"
   ]
  },
  {
   "cell_type": "code",
   "execution_count": 143,
   "metadata": {},
   "outputs": [],
   "source": [
    "june[['bathrooms_count', 'bathrooms_type']] = june['bathrooms_text'].str.split(expand=True)\n",
    "june['bathrooms_count'] = june['bathrooms_count'].astype('float')\n",
    "june['bathrooms_type'] = june['bathrooms_type'].astype('category')"
   ]
  },
  {
   "cell_type": "code",
   "execution_count": 144,
   "metadata": {},
   "outputs": [],
   "source": [
    "june['price'] = june['price'].str.replace('[\\$,]', '', regex=True).astype('float')"
   ]
  },
  {
   "cell_type": "code",
   "execution_count": 145,
   "metadata": {},
   "outputs": [],
   "source": [
    "june[\"instant_bookable\"] = (\n",
    "    june[\"instant_bookable\"].map({\"f\": 0, \"t\": 1}).astype(\"bool\")\n",
    ")"
   ]
  },
  {
   "cell_type": "code",
   "execution_count": 146,
   "metadata": {},
   "outputs": [],
   "source": [
    "june[\"has_availability\"] = (\n",
    "    june[\"has_availability\"].map({\"f\": 0, \"t\": 1}).astype(\"bool\")\n",
    ")"
   ]
  },
  {
   "cell_type": "code",
   "execution_count": 147,
   "metadata": {},
   "outputs": [
    {
     "data": {
      "text/plain": [
       "neighbourhood\n",
       "CDMX , Ciudad de Mexico, Mexico                   20000.000000\n",
       "Colonia Condesa, Mexico City, Mexico              10933.000000\n",
       "Lomas de Chapultepec, Ciudad de México, Mexico    10121.000000\n",
       "San Miguel Ajusco, Ciudad de México, Mexico        9870.333333\n",
       "Cuernavaca, Morelos, Mexico                        9127.000000\n",
       "El Capulín, Morelos, Mexico                        8500.000000\n",
       "CDMX, D.F., Mexico                                 6084.000000\n",
       "Mexico, CDMX, Mexico                               4442.000000\n",
       "Colonia Hipódromo, Ciudad de México, Mexico        4375.000000\n",
       "San Agustin Etla, Oaxaca, Oax., Oaxaca, Mexico     4056.000000\n",
       "Name: price, dtype: float64"
      ]
     },
     "execution_count": 147,
     "metadata": {},
     "output_type": "execute_result"
    }
   ],
   "source": [
    "june.groupby('neighbourhood').mean()['price'].sort_values(ascending=False).head(10)"
   ]
  },
  {
   "cell_type": "code",
   "execution_count": 148,
   "metadata": {},
   "outputs": [
    {
     "data": {
      "text/plain": [
       "longitude                                      -0.020074\n",
       "calculated_host_listings_count_private_rooms   -0.014550\n",
       "number_of_reviews                              -0.013949\n",
       "number_of_reviews_ltm                          -0.012835\n",
       "number_of_reviews_l30d                         -0.012649\n",
       "Name: price, dtype: float64"
      ]
     },
     "execution_count": 148,
     "metadata": {},
     "output_type": "execute_result"
    }
   ],
   "source": [
    "june.corr()['price'].sort_values().head()"
   ]
  },
  {
   "cell_type": "code",
   "execution_count": 149,
   "metadata": {},
   "outputs": [
    {
     "data": {
      "text/plain": [
       "price                                          1.000000\n",
       "accommodates                                   0.103180\n",
       "bathrooms_count                                0.091676\n",
       "bedrooms                                       0.080340\n",
       "beds                                           0.076775\n",
       "calculated_host_listings_count_entire_homes    0.035844\n",
       "Name: price, dtype: float64"
      ]
     },
     "execution_count": 149,
     "metadata": {},
     "output_type": "execute_result"
    }
   ],
   "source": [
    "june.corr()['price'].sort_values(ascending=False).head(6)"
   ]
  },
  {
   "cell_type": "code",
   "execution_count": 150,
   "metadata": {},
   "outputs": [],
   "source": [
    "# Keep features related to property only\n",
    "june.drop(\n",
    "    columns=[\n",
    "        \"id\",\n",
    "        \"listing_url\",\n",
    "        \"scrape_id\",\n",
    "        \"last_scraped\",\n",
    "        \"name\",\n",
    "        \"description\",\n",
    "        \"neighborhood_overview\",\n",
    "        \"picture_url\",\n",
    "        \"host_id\",\n",
    "        \"host_url\",\n",
    "        \"host_name\",\n",
    "        \"host_since\",\n",
    "        \"host_location\",\n",
    "        \"host_about\",\n",
    "        \"host_response_time\",\n",
    "        \"host_response_rate\",\n",
    "        \"host_acceptance_rate\",\n",
    "        \"host_is_superhost\",\n",
    "        \"host_thumbnail_url\",\n",
    "        \"host_picture_url\",\n",
    "        \"host_neighbourhood\",\n",
    "        \"host_listings_count\",\n",
    "        \"host_total_listings_count\",\n",
    "        \"host_verifications\",\n",
    "        \"host_has_profile_pic\",\n",
    "        \"host_identity_verified\",\n",
    "        \"minimum_nights\",\n",
    "        \"maximum_nights\",\n",
    "        \"minimum_minimum_nights\",\n",
    "        \"maximum_minimum_nights\",\n",
    "        \"minimum_maximum_nights\",\n",
    "        \"maximum_maximum_nights\",\n",
    "        \"minimum_nights_avg_ntm\",\n",
    "        \"maximum_nights_avg_ntm\",\n",
    "        \"has_availability\",\n",
    "        \"availability_30\",\n",
    "        \"availability_60\",\n",
    "        \"availability_90\",\n",
    "        \"availability_365\",\n",
    "        \"number_of_reviews\",\n",
    "        \"number_of_reviews_ltm\",\n",
    "        \"number_of_reviews_l30d\",\n",
    "        \"first_review\",\n",
    "        \"last_review\",\n",
    "        \"review_scores_rating\",\n",
    "        \"review_scores_accuracy\",\n",
    "        \"review_scores_cleanliness\",\n",
    "        \"review_scores_checkin\",\n",
    "        \"review_scores_communication\",\n",
    "        \"review_scores_location\",\n",
    "        \"review_scores_value\",\n",
    "        \"instant_bookable\",\n",
    "        \"calculated_host_listings_count\",\n",
    "        \"calculated_host_listings_count_entire_homes\",\n",
    "        \"calculated_host_listings_count_private_rooms\",\n",
    "        \"calculated_host_listings_count_shared_rooms\",\n",
    "        \"reviews_per_month\",\n",
    "        \"bathrooms_text\",\n",
    "        \"neighbourhood\",\n",
    "        \"neighbourhood_cleansed\",\n",
    "        \"bathrooms_type\",\n",
    "    ],\n",
    "    inplace=True,\n",
    ")"
   ]
  },
  {
   "cell_type": "code",
   "execution_count": 151,
   "metadata": {},
   "outputs": [
    {
     "name": "stdout",
     "output_type": "stream",
     "text": [
      "<class 'pandas.core.frame.DataFrame'>\n",
      "RangeIndex: 21669 entries, 0 to 21668\n",
      "Data columns (total 8 columns):\n",
      " #   Column           Non-Null Count  Dtype  \n",
      "---  ------           --------------  -----  \n",
      " 0   latitude         21669 non-null  float64\n",
      " 1   longitude        21669 non-null  float64\n",
      " 2   room_type        21669 non-null  object \n",
      " 3   accommodates     21669 non-null  int64  \n",
      " 4   bedrooms         21000 non-null  float64\n",
      " 5   beds             21272 non-null  float64\n",
      " 6   price            21669 non-null  float64\n",
      " 7   bathrooms_count  21617 non-null  float64\n",
      "dtypes: float64(6), int64(1), object(1)\n",
      "memory usage: 1.3+ MB\n"
     ]
    }
   ],
   "source": [
    "june.info()"
   ]
  },
  {
   "cell_type": "code",
   "execution_count": 152,
   "metadata": {},
   "outputs": [],
   "source": [
    "june = pd.get_dummies(june, columns=['room_type'])"
   ]
  },
  {
   "cell_type": "code",
   "execution_count": 153,
   "metadata": {},
   "outputs": [],
   "source": [
    "from sklearn.decomposition import PCA"
   ]
  },
  {
   "cell_type": "code",
   "execution_count": 154,
   "metadata": {},
   "outputs": [],
   "source": [
    "X = june.select_dtypes(['number']).drop(columns=['price']).fillna(0)"
   ]
  },
  {
   "cell_type": "code",
   "execution_count": 155,
   "metadata": {},
   "outputs": [
    {
     "data": {
      "text/html": [
       "<style>#sk-container-id-5 {color: black;background-color: white;}#sk-container-id-5 pre{padding: 0;}#sk-container-id-5 div.sk-toggleable {background-color: white;}#sk-container-id-5 label.sk-toggleable__label {cursor: pointer;display: block;width: 100%;margin-bottom: 0;padding: 0.3em;box-sizing: border-box;text-align: center;}#sk-container-id-5 label.sk-toggleable__label-arrow:before {content: \"▸\";float: left;margin-right: 0.25em;color: #696969;}#sk-container-id-5 label.sk-toggleable__label-arrow:hover:before {color: black;}#sk-container-id-5 div.sk-estimator:hover label.sk-toggleable__label-arrow:before {color: black;}#sk-container-id-5 div.sk-toggleable__content {max-height: 0;max-width: 0;overflow: hidden;text-align: left;background-color: #f0f8ff;}#sk-container-id-5 div.sk-toggleable__content pre {margin: 0.2em;color: black;border-radius: 0.25em;background-color: #f0f8ff;}#sk-container-id-5 input.sk-toggleable__control:checked~div.sk-toggleable__content {max-height: 200px;max-width: 100%;overflow: auto;}#sk-container-id-5 input.sk-toggleable__control:checked~label.sk-toggleable__label-arrow:before {content: \"▾\";}#sk-container-id-5 div.sk-estimator input.sk-toggleable__control:checked~label.sk-toggleable__label {background-color: #d4ebff;}#sk-container-id-5 div.sk-label input.sk-toggleable__control:checked~label.sk-toggleable__label {background-color: #d4ebff;}#sk-container-id-5 input.sk-hidden--visually {border: 0;clip: rect(1px 1px 1px 1px);clip: rect(1px, 1px, 1px, 1px);height: 1px;margin: -1px;overflow: hidden;padding: 0;position: absolute;width: 1px;}#sk-container-id-5 div.sk-estimator {font-family: monospace;background-color: #f0f8ff;border: 1px dotted black;border-radius: 0.25em;box-sizing: border-box;margin-bottom: 0.5em;}#sk-container-id-5 div.sk-estimator:hover {background-color: #d4ebff;}#sk-container-id-5 div.sk-parallel-item::after {content: \"\";width: 100%;border-bottom: 1px solid gray;flex-grow: 1;}#sk-container-id-5 div.sk-label:hover label.sk-toggleable__label {background-color: #d4ebff;}#sk-container-id-5 div.sk-serial::before {content: \"\";position: absolute;border-left: 1px solid gray;box-sizing: border-box;top: 0;bottom: 0;left: 50%;z-index: 0;}#sk-container-id-5 div.sk-serial {display: flex;flex-direction: column;align-items: center;background-color: white;padding-right: 0.2em;padding-left: 0.2em;position: relative;}#sk-container-id-5 div.sk-item {position: relative;z-index: 1;}#sk-container-id-5 div.sk-parallel {display: flex;align-items: stretch;justify-content: center;background-color: white;position: relative;}#sk-container-id-5 div.sk-item::before, #sk-container-id-5 div.sk-parallel-item::before {content: \"\";position: absolute;border-left: 1px solid gray;box-sizing: border-box;top: 0;bottom: 0;left: 50%;z-index: -1;}#sk-container-id-5 div.sk-parallel-item {display: flex;flex-direction: column;z-index: 1;position: relative;background-color: white;}#sk-container-id-5 div.sk-parallel-item:first-child::after {align-self: flex-end;width: 50%;}#sk-container-id-5 div.sk-parallel-item:last-child::after {align-self: flex-start;width: 50%;}#sk-container-id-5 div.sk-parallel-item:only-child::after {width: 0;}#sk-container-id-5 div.sk-dashed-wrapped {border: 1px dashed gray;margin: 0 0.4em 0.5em 0.4em;box-sizing: border-box;padding-bottom: 0.4em;background-color: white;}#sk-container-id-5 div.sk-label label {font-family: monospace;font-weight: bold;display: inline-block;line-height: 1.2em;}#sk-container-id-5 div.sk-label-container {text-align: center;}#sk-container-id-5 div.sk-container {/* jupyter's `normalize.less` sets `[hidden] { display: none; }` but bootstrap.min.css set `[hidden] { display: none !important; }` so we also need the `!important` here to be able to override the default hidden behavior on the sphinx rendered scikit-learn.org. See: https://github.com/scikit-learn/scikit-learn/issues/21755 */display: inline-block !important;position: relative;}#sk-container-id-5 div.sk-text-repr-fallback {display: none;}</style><div id=\"sk-container-id-5\" class=\"sk-top-container\"><div class=\"sk-text-repr-fallback\"><pre>PCA()</pre><b>In a Jupyter environment, please rerun this cell to show the HTML representation or trust the notebook. <br />On GitHub, the HTML representation is unable to render, please try loading this page with nbviewer.org.</b></div><div class=\"sk-container\" hidden><div class=\"sk-item\"><div class=\"sk-estimator sk-toggleable\"><input class=\"sk-toggleable__control sk-hidden--visually\" id=\"sk-estimator-id-5\" type=\"checkbox\" checked><label for=\"sk-estimator-id-5\" class=\"sk-toggleable__label sk-toggleable__label-arrow\">PCA</label><div class=\"sk-toggleable__content\"><pre>PCA()</pre></div></div></div></div></div>"
      ],
      "text/plain": [
       "PCA()"
      ]
     },
     "execution_count": 155,
     "metadata": {},
     "output_type": "execute_result"
    }
   ],
   "source": [
    "pca = PCA()\n",
    "pca.fit(X)"
   ]
  },
  {
   "cell_type": "code",
   "execution_count": 156,
   "metadata": {},
   "outputs": [
    {
     "data": {
      "text/html": [
       "<div>\n",
       "<style scoped>\n",
       "    .dataframe tbody tr th:only-of-type {\n",
       "        vertical-align: middle;\n",
       "    }\n",
       "\n",
       "    .dataframe tbody tr th {\n",
       "        vertical-align: top;\n",
       "    }\n",
       "\n",
       "    .dataframe thead th {\n",
       "        text-align: right;\n",
       "    }\n",
       "</style>\n",
       "<table border=\"1\" class=\"dataframe\">\n",
       "  <thead>\n",
       "    <tr style=\"text-align: right;\">\n",
       "      <th></th>\n",
       "      <th>0</th>\n",
       "    </tr>\n",
       "  </thead>\n",
       "  <tbody>\n",
       "    <tr>\n",
       "      <th>latitude</th>\n",
       "      <td>7.367207e-01</td>\n",
       "    </tr>\n",
       "    <tr>\n",
       "      <th>longitude</th>\n",
       "      <td>1.390870e-01</td>\n",
       "    </tr>\n",
       "    <tr>\n",
       "      <th>accommodates</th>\n",
       "      <td>5.550552e-02</td>\n",
       "    </tr>\n",
       "    <tr>\n",
       "      <th>bedrooms</th>\n",
       "      <td>3.576844e-02</td>\n",
       "    </tr>\n",
       "    <tr>\n",
       "      <th>beds</th>\n",
       "      <td>2.948663e-02</td>\n",
       "    </tr>\n",
       "    <tr>\n",
       "      <th>bathrooms_count</th>\n",
       "      <td>2.193745e-03</td>\n",
       "    </tr>\n",
       "    <tr>\n",
       "      <th>room_type_Entire home/apt</th>\n",
       "      <td>9.163933e-04</td>\n",
       "    </tr>\n",
       "    <tr>\n",
       "      <th>room_type_Hotel room</th>\n",
       "      <td>1.907161e-04</td>\n",
       "    </tr>\n",
       "    <tr>\n",
       "      <th>room_type_Private room</th>\n",
       "      <td>1.308098e-04</td>\n",
       "    </tr>\n",
       "    <tr>\n",
       "      <th>room_type_Shared room</th>\n",
       "      <td>6.001090e-34</td>\n",
       "    </tr>\n",
       "  </tbody>\n",
       "</table>\n",
       "</div>"
      ],
      "text/plain": [
       "                                      0\n",
       "latitude                   7.367207e-01\n",
       "longitude                  1.390870e-01\n",
       "accommodates               5.550552e-02\n",
       "bedrooms                   3.576844e-02\n",
       "beds                       2.948663e-02\n",
       "bathrooms_count            2.193745e-03\n",
       "room_type_Entire home/apt  9.163933e-04\n",
       "room_type_Hotel room       1.907161e-04\n",
       "room_type_Private room     1.308098e-04\n",
       "room_type_Shared room      6.001090e-34"
      ]
     },
     "execution_count": 156,
     "metadata": {},
     "output_type": "execute_result"
    }
   ],
   "source": [
    "pd.DataFrame(data=pca.explained_variance_ratio_, index=X.columns).sort_values(by=0, ascending=False).head(20)"
   ]
  },
  {
   "cell_type": "code",
   "execution_count": null,
   "metadata": {},
   "outputs": [],
   "source": []
  }
 ],
 "metadata": {
  "kernelspec": {
   "display_name": "Python 3.9.12 ('base')",
   "language": "python",
   "name": "python3"
  },
  "language_info": {
   "codemirror_mode": {
    "name": "ipython",
    "version": 3
   },
   "file_extension": ".py",
   "mimetype": "text/x-python",
   "name": "python",
   "nbconvert_exporter": "python",
   "pygments_lexer": "ipython3",
   "version": "3.9.12"
  },
  "orig_nbformat": 4,
  "vscode": {
   "interpreter": {
    "hash": "f7a0f9bb49171c226bccce8a0987518af550515ba22b4949d7abe766c3680a51"
   }
  }
 },
 "nbformat": 4,
 "nbformat_minor": 2
}
